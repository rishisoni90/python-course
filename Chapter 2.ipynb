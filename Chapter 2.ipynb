{
 "cells": [
  {
   "cell_type": "code",
   "execution_count": null,
   "metadata": {
    "scrolled": true
   },
   "outputs": [],
   "source": [
    "print('hello world!')"
   ]
  },
  {
   "cell_type": "code",
   "execution_count": null,
   "metadata": {},
   "outputs": [],
   "source": [
    "# (when the cell is selcted, press \"M\" to change it to a markdown cell)\n",
    "## (when you have finished writing the markdown, press \"run\")\n",
    "This illustrates the _print_ statement of **Python.**\n",
    "You've written your first program!"
   ]
  },
  {
   "cell_type": "code",
   "execution_count": null,
   "metadata": {},
   "outputs": [],
   "source": [
    "#python runs in kernel, the following is an example of an infinite loop that will keep running. \n",
    "#We need to interrupt the kernel to make it stop, select \"Kernel\" from the menu bar, and click \"interrupt\" or \"restart\"\n",
    "x = 1\n",
    "while x==1:\n",
    "    y = input('what''s your name?')\n",
    "    print('Hi', y, ', Welcome to INSY5336!')"
   ]
  },
  {
   "cell_type": "code",
   "execution_count": null,
   "metadata": {},
   "outputs": [],
   "source": [
    "#integer, string, float, 3 types of value\n",
    "print(4)\n",
    "print(5.4)\n",
    "print(\"They are all numbers.\")"
   ]
  },
  {
   "cell_type": "code",
   "execution_count": null,
   "metadata": {},
   "outputs": [],
   "source": [
    "#use type() to find out the type of value\n",
    "type(3.5)"
   ]
  },
  {
   "cell_type": "code",
   "execution_count": null,
   "metadata": {},
   "outputs": [],
   "source": [
    "type('I am not sure')"
   ]
  },
  {
   "cell_type": "code",
   "execution_count": null,
   "metadata": {},
   "outputs": [],
   "source": [
    "#anything between quotation marks become string, even though they appear something else\n",
    "#note the red color coding of strings, in contrast to the green color coding of numerics\n",
    "type('4 + 5')"
   ]
  },
  {
   "cell_type": "code",
   "execution_count": null,
   "metadata": {},
   "outputs": [],
   "source": [
    "#assigning values to variables\n",
    "x = 12.2\n",
    "y = 14\n",
    "print(x)\n",
    "print(y) "
   ]
  },
  {
   "cell_type": "code",
   "execution_count": null,
   "metadata": {},
   "outputs": [],
   "source": [
    "#assigning a new value to the same variable will override the original value\n",
    "x = 100\n",
    "print('x = ',x)\n",
    "print('y = ',y)"
   ]
  },
  {
   "cell_type": "code",
   "execution_count": null,
   "metadata": {},
   "outputs": [],
   "source": [
    "#these variables names are not allowed, running them will give you an error\n",
    "5336_INSY = 'awesome'\n",
    "@INSY5336 = 'awesome'\n",
    "INSY.5336 = 'awesome'\n",
    "\n",
    "#note that python will stop executing the cell at the first error it encounters\n",
    "#so even though the next variable name is ok, it will not run\n",
    "INSY_5336 = 'maybe need more awesomeness'"
   ]
  },
  {
   "cell_type": "code",
   "execution_count": null,
   "metadata": {},
   "outputs": [],
   "source": [
    "#python does not care what you name your variables, the following code all perform the same task\n",
    "x1q3z9ocd = 35.0 \n",
    "x1q3z9afd = 12.50\n",
    "x1q3p9afd = x1q3z9ocd * x1q3z9afd\n",
    "print(x1q3p9afd)\n",
    "\n",
    "a = 35.0 \n",
    "b = 12.50 \n",
    "c = a * b \n",
    "print(c)\n",
    "\n",
    "hours = 35.0 \n",
    "rate = 12.50 \n",
    "pay = hours * rate \n",
    "print(pay)"
   ]
  },
  {
   "cell_type": "code",
   "execution_count": null,
   "metadata": {},
   "outputs": [],
   "source": [
    "#assigning a new value of the variable through expression will also override the original value\n",
    "x = 0.6\n",
    "print(x)\n",
    "x = 3.9 *  x  * ( 1  -  x )\n",
    "print('new x value = ', x)"
   ]
  },
  {
   "cell_type": "code",
   "execution_count": null,
   "metadata": {},
   "outputs": [],
   "source": [
    "#special operator for quotient and remainder\n",
    "quotient = 7 // 3\n",
    "print('quotient = ',quotient)\n",
    "\n",
    "remainder = 7 % 3\n",
    "print(remainder)"
   ]
  },
  {
   "cell_type": "code",
   "execution_count": null,
   "metadata": {},
   "outputs": [],
   "source": [
    "#pay special attention to the order of operations when writing long expressions\n",
    "x = 1 + 2 ** 3 / 4 * 5\n",
    "print(x)\n",
    "\n",
    "#even though you know the order of operation, it doesn't hurt to add some parentheses to help others understand\n",
    "x = 1 + (((2 ** 3) / 4) * 5)\n",
    "print(x)\n",
    "\n",
    "#or even better, break it down to several different chunks, you need a few more variable names to avoid confusion\n",
    "x1 = 2 ** 3\n",
    "x2 = x1/4\n",
    "x3 = x2*5\n",
    "x4 = 1 + x3\n",
    "print(x4)"
   ]
  },
  {
   "cell_type": "code",
   "execution_count": null,
   "metadata": {},
   "outputs": [],
   "source": [
    "# \"+\" can be used to add numeric values or concatenate strings\n",
    "x1 = 1\n",
    "x2 = 4\n",
    "print(x1 + x2)\n",
    "\n",
    "y1 = 'hello '\n",
    "y2 = 'there'\n",
    "y3 = 'hello ' + 'there'\n",
    "print(y1 + y2)\n",
    "print(y3)"
   ]
  },
  {
   "cell_type": "code",
   "execution_count": null,
   "metadata": {
    "scrolled": true
   },
   "outputs": [],
   "source": [
    "# \"+\" cannot be used to add numeric value and strings\n",
    "first = 'Test '\n",
    "second = 3\n",
    "print(first + second)"
   ]
  },
  {
   "cell_type": "code",
   "execution_count": null,
   "metadata": {},
   "outputs": [],
   "source": [
    "# However, everything between \" \" automatically becomes string\n",
    "first = 'Test '\n",
    "second = '3'\n",
    "print(first + second)\n",
    "\n",
    "third = 'words '\n",
    "fourth = '4 + 5'\n",
    "print(third + fourth)"
   ]
  },
  {
   "cell_type": "code",
   "execution_count": null,
   "metadata": {},
   "outputs": [],
   "source": [
    "#conversion commands\n",
    "int() #changes into integer\n",
    "float() #changes into float\n",
    "str() #changes into string"
   ]
  },
  {
   "cell_type": "code",
   "execution_count": null,
   "metadata": {},
   "outputs": [],
   "source": [
    "#rules of conversion\n",
    "#1, everything can be converted into string\n",
    "x1 = 4\n",
    "x2 = 4.879\n",
    "x3 = str(x1)\n",
    "print(x3)\n",
    "type(x3)\n",
    "x4 = str(x2)\n",
    "print(x4)\n",
    "type(x4)"
   ]
  },
  {
   "cell_type": "code",
   "execution_count": null,
   "metadata": {},
   "outputs": [],
   "source": [
    "#you can no longer multiply x3 and x4 now because they are strings, even though they appear to be numericals\n",
    "print(x3*x4)"
   ]
  },
  {
   "cell_type": "code",
   "execution_count": null,
   "metadata": {},
   "outputs": [],
   "source": [
    "# rule 2, all intergers can be converted into float\n",
    "x1 = 52\n",
    "x2 = float(x1)\n",
    "print(x2)\n",
    "type(x2)"
   ]
  },
  {
   "cell_type": "code",
   "execution_count": null,
   "metadata": {},
   "outputs": [],
   "source": [
    "# rule 3, All floats can be converted to integer, but will lose the decimal values (truncated)\n",
    "x = 4.8\n",
    "y = int(x)\n",
    "print(y)"
   ]
  },
  {
   "cell_type": "code",
   "execution_count": null,
   "metadata": {},
   "outputs": [],
   "source": [
    "# rule 4, Strings that are purely made up of integers can be converted to integer and float\n",
    "x1 = '128'\n",
    "x2 = int(x1)\n",
    "print(x2)\n",
    "x3 = float(x1)\n",
    "print(x3)"
   ]
  },
  {
   "cell_type": "code",
   "execution_count": null,
   "metadata": {},
   "outputs": [],
   "source": [
    "# rule 5, Strings that have decimal values can only be converted into float\n",
    "x1 = '128.94'\n",
    "x2 = float(x1)\n",
    "print(x2)"
   ]
  },
  {
   "cell_type": "code",
   "execution_count": null,
   "metadata": {},
   "outputs": [],
   "source": [
    "# rule 5.1, If you attempt to convert a string with decimal values into integer, it will not truncate, it will give you an error\n",
    "x1 = '128.94'\n",
    "x2 = int(x1)\n",
    "print(x2)"
   ]
  },
  {
   "cell_type": "code",
   "execution_count": null,
   "metadata": {},
   "outputs": [],
   "source": [
    "# input function is the simplest interactive program that we can write, it asks for data input from the user\n",
    "name = input('Who are you? ')\n",
    "print('Welcome to the awesome INSY5336!', name,'!')"
   ]
  },
  {
   "cell_type": "code",
   "execution_count": null,
   "metadata": {
    "scrolled": true
   },
   "outputs": [],
   "source": [
    "#BY default, user input is read as string, we need to convert that into numebers if we want to do some calculation\n",
    "wage = input('Please enter your hourly wage:')\n",
    "hour = input('Please enter the hours you have worked today')\n",
    "type(wage)\n",
    "type(hour)"
   ]
  },
  {
   "cell_type": "code",
   "execution_count": null,
   "metadata": {},
   "outputs": [],
   "source": [
    "#we need to convert that into numebers if we want to do some calculation\n",
    "x1 = float(wage)\n",
    "x2 = float(hour)\n",
    "print('Your salary today will be', x1*x2, 'dollars')"
   ]
  },
  {
   "cell_type": "code",
   "execution_count": null,
   "metadata": {},
   "outputs": [],
   "source": [
    "#BY default, user input is read as string, we need to convert that into numebers if we want to do some calculation\n",
    "wage = input('Please enter your hourly wage:')\n",
    "hour = input('Please enter the hours you have worked today')\n",
    "\n",
    "#we need to convert that into numebers if we want to do some calculation\n",
    "x1 = float(wage)\n",
    "x2 = float(hour)\n",
    "print('Your salary today will be', x1*x2, 'dollars')"
   ]
  },
  {
   "cell_type": "code",
   "execution_count": null,
   "metadata": {},
   "outputs": [],
   "source": []
  }
 ],
 "metadata": {
  "kernelspec": {
   "display_name": "Python 3",
   "language": "python",
   "name": "python3"
  },
  "language_info": {
   "codemirror_mode": {
    "name": "ipython",
    "version": 3
   },
   "file_extension": ".py",
   "mimetype": "text/x-python",
   "name": "python",
   "nbconvert_exporter": "python",
   "pygments_lexer": "ipython3",
   "version": "3.8.3"
  }
 },
 "nbformat": 4,
 "nbformat_minor": 2
}
