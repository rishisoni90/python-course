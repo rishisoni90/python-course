{
 "cells": [
  {
   "cell_type": "code",
   "execution_count": null,
   "metadata": {},
   "outputs": [],
   "source": [
    "#simple comparison\n",
    "5==5"
   ]
  },
  {
   "cell_type": "code",
   "execution_count": null,
   "metadata": {},
   "outputs": [],
   "source": [
    "5==4"
   ]
  },
  {
   "cell_type": "code",
   "execution_count": null,
   "metadata": {},
   "outputs": [],
   "source": [
    "#you can also compare strings\n",
    "'hello' == 'hello'"
   ]
  },
  {
   "cell_type": "code",
   "execution_count": null,
   "metadata": {},
   "outputs": [],
   "source": [
    "#Note the difference between an assignment statement '=', and a comparison operator '=='\n",
    "hello = 'hello'"
   ]
  },
  {
   "cell_type": "code",
   "execution_count": null,
   "metadata": {},
   "outputs": [],
   "source": [
    "#Boolean type actually have values! Binary values\n",
    "True + 5"
   ]
  },
  {
   "cell_type": "code",
   "execution_count": null,
   "metadata": {},
   "outputs": [],
   "source": [
    "False * 5"
   ]
  },
  {
   "cell_type": "code",
   "execution_count": null,
   "metadata": {},
   "outputs": [],
   "source": [
    "#take a guess of what the result will be?\n",
    "x = (5==5)\n",
    "y = (x==5)\n",
    "print(y)"
   ]
  },
  {
   "cell_type": "code",
   "execution_count": null,
   "metadata": {},
   "outputs": [],
   "source": [
    "#logical boolean operators: and\n",
    "inp = input('please enter a positive number:')\n",
    "x = float(inp)\n",
    "x > 0 and x < 10"
   ]
  },
  {
   "cell_type": "code",
   "execution_count": null,
   "metadata": {},
   "outputs": [],
   "source": [
    "#logical boolean operators: or\n",
    "inp = input('please enter a positive number:')\n",
    "x = float(inp)\n",
    "x > 0 or x < 10"
   ]
  },
  {
   "cell_type": "code",
   "execution_count": null,
   "metadata": {},
   "outputs": [],
   "source": [
    "#logical boolean operators: not\n",
    "inp = input('please enter a positive number:')\n",
    "x = float(inp)\n",
    "not x < 10"
   ]
  },
  {
   "cell_type": "code",
   "execution_count": null,
   "metadata": {},
   "outputs": [],
   "source": [
    "#conditional execution, 2 different conditions\n",
    "x = input('Please enter a number:')\n",
    "if x < 10:\n",
    "   print('Smaller') #note the identation of this line\n",
    "if x > 20:          #note that this line is backed to the beginning, python will know this is the start of a new command\n",
    "   print('Bigger') \n",
    "print('Finished')"
   ]
  },
  {
   "cell_type": "code",
   "execution_count": null,
   "metadata": {},
   "outputs": [],
   "source": [
    "#however, the 2 conditions here do not cover all the possibilities, if I enter 12, python does not know what to do\n",
    "x = input('Please enter a number:')\n",
    "if x < 10:\n",
    "   print('Smaller') #note the identation of this line\n",
    "if x > 20:          #note that this line is backed to the beginning, python will know this is the start of a new command\n",
    "   print('Bigger') \n",
    "print('Finished')"
   ]
  },
  {
   "cell_type": "code",
   "execution_count": null,
   "metadata": {},
   "outputs": [],
   "source": [
    "#so we need a alternate execution to \"catch\" all other possibilities\n",
    "x = 12\n",
    "if x < 3: #this only runs if the condition is met\n",
    "    print('x is smaller than 3')   \n",
    "else:    #this only runs if the condition is not met\n",
    "    print ('x is probably larger than 3')"
   ]
  },
  {
   "cell_type": "code",
   "execution_count": null,
   "metadata": {},
   "outputs": [],
   "source": [
    "#we can combine that with user input\n",
    "inp = input('Please type in any number you want to test, then press enter: ')\n",
    "x = float(inp)\n",
    "if x < 3:\n",
    "    print('x is smaller than 3')\n",
    "else:\n",
    "    print ('x is probably larger than 3')"
   ]
  },
  {
   "cell_type": "code",
   "execution_count": null,
   "metadata": {},
   "outputs": [],
   "source": [
    "#chained condition, more than 2 possibilities\n",
    "inp = input('Please type in any number you want to test, then press enter: ')\n",
    "x = float(inp)\n",
    "if x < 3:\n",
    "    print('x is smaller than 3')\n",
    "elif x > 3:\n",
    "    print('x is greater than 3')\n",
    "else:\n",
    "    print ('x is equal to 3')"
   ]
  },
  {
   "cell_type": "code",
   "execution_count": null,
   "metadata": {
    "scrolled": true
   },
   "outputs": [],
   "source": [
    "#just some silly things we can do to challenge the user, like a password\n",
    "password = input('Please create your password, then press enter: ')\n",
    "print('password created successfully')\n",
    "\n",
    "inp = input('Please enter your password, then press enter: ')\n",
    "x = str(inp)\n",
    "if inp == password:\n",
    "    print('access granted')\n",
    "else:\n",
    "    print('wrong password, self destruction initiating in 10 seconds')\n",
    "    n = 10\n",
    "    while n > 0 :\n",
    "        print(n)\n",
    "        n = n - 1\n",
    "    print('Boom! Now you need a new computer.')"
   ]
  },
  {
   "cell_type": "code",
   "execution_count": null,
   "metadata": {},
   "outputs": [],
   "source": [
    "#conditional execution, 2 nested conditions\n",
    "x = 42\n",
    "if x > 1 :\n",
    "    print('x is larger than one')\n",
    "    if x < 100 :                              \n",
    "        print('It is also less than 100')  #note the hierarchical indentation\n",
    "print('All done')"
   ]
  },
  {
   "cell_type": "code",
   "execution_count": null,
   "metadata": {},
   "outputs": [],
   "source": [
    "#catching an exception. An exception stop the program\n",
    "inp = input('Enter Fahrenheit Temperature:')\n",
    "fahr = float(inp)\n",
    "cel = (fahr - 32.0) * 5.0 / 9.0\n",
    "print(cel)"
   ]
  },
  {
   "cell_type": "code",
   "execution_count": null,
   "metadata": {},
   "outputs": [],
   "source": [
    "#catch exception with try\n",
    "inp = input('Enter Fahrenheit Temperature:')\n",
    "try:\n",
    "    fahr = float(inp)\n",
    "    cel = (fahr - 32.0) * 5.0 / 9.0\n",
    "    print(cel)\n",
    "except:\n",
    "    print('Please enter a number')"
   ]
  },
  {
   "cell_type": "code",
   "execution_count": null,
   "metadata": {},
   "outputs": [],
   "source": [
    "first = input('Please enter a number: ')\n",
    "second = input('Please enter another number')\n",
    "try:\n",
    "    x = float(first)\n",
    "    y = float(second)\n",
    "    if x > y:\n",
    "        print('first is larger than second')\n",
    "except:\n",
    "    print('something is wrong')\n",
    "else:\n",
    "    print('nothing is wrong') \n",
    "finally:\n",
    "    print('the try block is completed')\n"
   ]
  },
  {
   "cell_type": "code",
   "execution_count": null,
   "metadata": {},
   "outputs": [],
   "source": []
  }
 ],
 "metadata": {
  "kernelspec": {
   "display_name": "Python 3",
   "language": "python",
   "name": "python3"
  },
  "language_info": {
   "codemirror_mode": {
    "name": "ipython",
    "version": 3
   },
   "file_extension": ".py",
   "mimetype": "text/x-python",
   "name": "python",
   "nbconvert_exporter": "python",
   "pygments_lexer": "ipython3",
   "version": "3.7.1"
  }
 },
 "nbformat": 4,
 "nbformat_minor": 2
}
