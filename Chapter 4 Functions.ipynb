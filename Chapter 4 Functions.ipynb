{
 "cells": [
  {
   "cell_type": "code",
   "execution_count": null,
   "metadata": {},
   "outputs": [],
   "source": [
    "#first go to python shell to install pandas (pip install pandas)\n",
    "#now we need to import the library\n",
    "import pandas as pd"
   ]
  },
  {
   "cell_type": "code",
   "execution_count": null,
   "metadata": {},
   "outputs": [],
   "source": [
    "#now we can use the functions built in pandas\n",
    "dataset = pd.read_excel('create a spreadsheet.xlsx');\n",
    "#note we use pd. to tell python to look for this function in pandas\n",
    "print(dataset[:5])\n",
    "#try it on any spreadsheet, note to put the file in your jupyter notebook folder if you don't want to enter the full path"
   ]
  },
  {
   "cell_type": "code",
   "execution_count": null,
   "metadata": {},
   "outputs": [],
   "source": [
    "#some common modules and functions\n",
    "import random as rd\n",
    "for i in range(15):\n",
    "    x = rd.random()\n",
    "    print(x)"
   ]
  },
  {
   "cell_type": "code",
   "execution_count": null,
   "metadata": {},
   "outputs": [],
   "source": [
    "#you can also use a random pick to decide who buys pizza next time!\n",
    "friends = ['Tom', 'Jerry', 'Larry', 'John', 'Tim'] #note this is a list, we will talk more about it in the future\n",
    "rd.choice(friends)"
   ]
  },
  {
   "cell_type": "code",
   "execution_count": null,
   "metadata": {},
   "outputs": [],
   "source": [
    "#re.search can be used to find certain words in a text. This will be very useful in the future when we want to manipulate texts\n",
    "import re\n",
    "story = \"Elsa of Arendelle is a fictional character who appears in Walt Disney Animation Studios' 53rd animated film Frozen and its sequel Frozen II.\"\n",
    "match = re.search('Disney', story)\n",
    "print(match)"
   ]
  },
  {
   "cell_type": "code",
   "execution_count": null,
   "metadata": {},
   "outputs": [],
   "source": [
    "#function stores whatever you want it to do\n",
    "#it is like a macro key\n",
    "def help_me_work():\n",
    "    x = float(input('Please enter how many hours you have worked today: '))\n",
    "    if x < 6:\n",
    "        print('Go to work!')\n",
    "    else:\n",
    "        print('Have some ice cream!')\n",
    "    print('Working for', x, 'hours is not healthy')        "
   ]
  },
  {
   "cell_type": "code",
   "execution_count": null,
   "metadata": {},
   "outputs": [],
   "source": [
    "help_me_work()"
   ]
  },
  {
   "cell_type": "code",
   "execution_count": null,
   "metadata": {},
   "outputs": [],
   "source": [
    "def print_lyrics():\n",
    "    print ('Let it go, let go') \n",
    "    print ('Let the storm rage on, cold never bothered me anyway')"
   ]
  },
  {
   "cell_type": "code",
   "execution_count": null,
   "metadata": {},
   "outputs": [],
   "source": [
    "print_lyrics('what lyrics')"
   ]
  },
  {
   "cell_type": "code",
   "execution_count": null,
   "metadata": {},
   "outputs": [],
   "source": [
    "#function parameters\n",
    "#so the previous function can also be re-written as:\n",
    "def help_me_work(work_hour):\n",
    "    if work_hour < 6:\n",
    "        print('Go to work!')\n",
    "    else:\n",
    "        print('Have some ice cream!')\n",
    "    print('Working for', work_hour, 'hours is not healthy')     \n",
    "\n",
    "x = y +5"
   ]
  },
  {
   "cell_type": "code",
   "execution_count": null,
   "metadata": {},
   "outputs": [],
   "source": [
    "help_me_work(5)"
   ]
  },
  {
   "cell_type": "markdown",
   "metadata": {},
   "source": [
    "# note the difference of return and print"
   ]
  },
  {
   "cell_type": "code",
   "execution_count": null,
   "metadata": {},
   "outputs": [],
   "source": [
    "#at the end of this function, we are asking it to print out the value of x\n",
    "def first_function():\n",
    "    x = 42\n",
    "    print(x)"
   ]
  },
  {
   "cell_type": "code",
   "execution_count": null,
   "metadata": {},
   "outputs": [],
   "source": [
    "#even though we can see the value of x, the print function only outputs an \"image\" for humans to understand\n",
    "#this \"image\" is actually a None-type\n",
    "first = first_function()"
   ]
  },
  {
   "cell_type": "code",
   "execution_count": null,
   "metadata": {},
   "outputs": [],
   "source": [
    "#this \"image\" cannot be used by python. \n",
    "#Similar to a screenshot, you can read the words in a screenshot but you cannot edit them (at least without special software)\n",
    "#so this will give you an error\n",
    "print(first/6)"
   ]
  },
  {
   "cell_type": "code",
   "execution_count": null,
   "metadata": {},
   "outputs": [],
   "source": [
    "#at the end of this function, we are asking it to return the value of x\n",
    "def second_function():\n",
    "    x = 42\n",
    "    return x"
   ]
  },
  {
   "cell_type": "code",
   "execution_count": null,
   "metadata": {},
   "outputs": [],
   "source": [
    "#python will return the value as stored in pythobn kernel\n",
    "second = second_function()"
   ]
  },
  {
   "cell_type": "code",
   "execution_count": null,
   "metadata": {},
   "outputs": [],
   "source": [
    "#so this returned value can be used in further programs\n",
    "print(second/6)"
   ]
  },
  {
   "cell_type": "code",
   "execution_count": null,
   "metadata": {},
   "outputs": [],
   "source": [
    "#functions can include multiple parameters and you can perform different task on each of them\n",
    "def multiply(x, y, z, a):\n",
    "    return(x*y*z*a)\n",
    "\n",
    "print(multiply(2,3,4,5))"
   ]
  },
  {
   "cell_type": "code",
   "execution_count": null,
   "metadata": {},
   "outputs": [],
   "source": [
    "#if you included multiple parameters, you need to give a value to each of them when you invoke the function\n",
    "#this will give you an error because it assigns more value than parameters\n",
    "print(multiply(2,3,4,5,6))"
   ]
  },
  {
   "cell_type": "code",
   "execution_count": null,
   "metadata": {},
   "outputs": [],
   "source": [
    "#this will give you an error because it assigns less value than parameters\n",
    "print(multiply(2,3,4))"
   ]
  },
  {
   "cell_type": "code",
   "execution_count": null,
   "metadata": {},
   "outputs": [],
   "source": [
    "#you can also assign default values when you define the function\n",
    "def multiply(x, y, z=1, a=1):\n",
    "    return(x*y*z*a)\n",
    "\n",
    "#since 2 parameters already have values, we only need to assign 2 values when we invoke it\n",
    "print(multiply(2,3))"
   ]
  },
  {
   "cell_type": "code",
   "execution_count": null,
   "metadata": {},
   "outputs": [],
   "source": [
    "#assigning more value is fine, it will just override the original value based on the sequence in the parentheses\n",
    "print(multiply(2,3,4))"
   ]
  },
  {
   "cell_type": "code",
   "execution_count": null,
   "metadata": {},
   "outputs": [],
   "source": [
    "#but assigning less value won't work, because python does not know the value of y in this case\n",
    "print(multiply(2))"
   ]
  },
  {
   "cell_type": "code",
   "execution_count": null,
   "metadata": {},
   "outputs": [],
   "source": [
    "#when to use function\n",
    "#we can write the tasks ourselves, but we have to write it everytime\n",
    "x = float(input('Please enter a number: '))\n",
    "y = float(input('Please enter another number: '))\n",
    "if y == 0:\n",
    "    print('Invalid input, this will lead to a zero-division error')\n",
    "else:\n",
    "    print ('The result is: ', x/y)"
   ]
  },
  {
   "cell_type": "code",
   "execution_count": null,
   "metadata": {},
   "outputs": [],
   "source": [
    "#the next time we need to do similar tasks, we need to write it again\n",
    "a = 14\n",
    "b = a - 14\n",
    "if b == 0:\n",
    "    print('Invalid input, this will lead to a zero-division error')\n",
    "else:\n",
    "    print ('The result is: ', a/b)"
   ]
  },
  {
   "cell_type": "code",
   "execution_count": null,
   "metadata": {},
   "outputs": [],
   "source": [
    "#use a function and be done with it\n",
    "def zerodivision(x, y):\n",
    "    if y == 0:\n",
    "        print('Invalid input, this will lead to a zero-division error')\n",
    "    else:\n",
    "        print ('The result is: ', x/y)"
   ]
  },
  {
   "cell_type": "code",
   "execution_count": null,
   "metadata": {},
   "outputs": [],
   "source": [
    "#invoke it anyway you want, never need to change your code\n",
    "zerodivision(627, 14)"
   ]
  },
  {
   "cell_type": "code",
   "execution_count": null,
   "metadata": {},
   "outputs": [],
   "source": [
    "zerodivision(4+5, 12*7)"
   ]
  },
  {
   "cell_type": "code",
   "execution_count": null,
   "metadata": {},
   "outputs": [],
   "source": [
    "def complex_calculation(x, y, z):\n",
    "    print(x**y/4*z)"
   ]
  },
  {
   "cell_type": "code",
   "execution_count": null,
   "metadata": {},
   "outputs": [],
   "source": [
    "complex_calculation(4,5,7)"
   ]
  },
  {
   "cell_type": "code",
   "execution_count": null,
   "metadata": {},
   "outputs": [],
   "source": [
    "def complex_sentence(x): \n",
    "    print('This sentence has', len(x), 'letters. The largest letter is: ', max(x))  "
   ]
  },
  {
   "cell_type": "code",
   "execution_count": null,
   "metadata": {},
   "outputs": [],
   "source": [
    "complex_sentence('Elsa inadvertently sends Arendelle into an eternal winter on the evening of her coronation.')"
   ]
  },
  {
   "cell_type": "code",
   "execution_count": null,
   "metadata": {},
   "outputs": [],
   "source": [
    "#use return to store results for further tasks\n",
    "#function within functions\n",
    "def letter_count(x):\n",
    "    return(len(x) + 100)\n",
    "def longer_story(x):\n",
    "    y = letter_count(x)*5\n",
    "    print(y, 'is a better length for a good story.')"
   ]
  },
  {
   "cell_type": "code",
   "execution_count": null,
   "metadata": {},
   "outputs": [],
   "source": [
    "longer_story('Elsa inadvertently sends Arendelle into an eternal winter on the evening of her coronation.')"
   ]
  },
  {
   "cell_type": "code",
   "execution_count": null,
   "metadata": {},
   "outputs": [],
   "source": [
    "# a step by step, not-so-elegant solution\n",
    "def fat_calory(fat_gm):\n",
    "    return (fat_gm * 9) \n",
    "def carb_calory(carb_gm):\n",
    "    return (carb_gm * 4)\n",
    "def pro_calory(pro_gm):\n",
    "    return (pro_gm * 4)\n",
    "\n",
    "def total_consumption(fat_gm, pro_gm, carb_gm):\n",
    "    return (fat_calory(fat_gm) + carb_calory(carb_gm) + pro_calory(pro_gm))"
   ]
  },
  {
   "cell_type": "code",
   "execution_count": null,
   "metadata": {},
   "outputs": [],
   "source": [
    "total_consumption(20,25,80)"
   ]
  },
  {
   "cell_type": "code",
   "execution_count": null,
   "metadata": {},
   "outputs": [],
   "source": [
    "#a more efficient solution\n",
    "def compute_consumption(fat_gm, carb_gm, pro_gm):\n",
    "    return (fat_gm * 9 + carb_gm * 4 +pro_gm * 4)\n",
    "\n",
    "compute_consumption(20,25,80)"
   ]
  },
  {
   "cell_type": "code",
   "execution_count": null,
   "metadata": {},
   "outputs": [],
   "source": []
  }
 ],
 "metadata": {
  "kernelspec": {
   "display_name": "Python 3",
   "language": "python",
   "name": "python3"
  },
  "language_info": {
   "codemirror_mode": {
    "name": "ipython",
    "version": 3
   },
   "file_extension": ".py",
   "mimetype": "text/x-python",
   "name": "python",
   "nbconvert_exporter": "python",
   "pygments_lexer": "ipython3",
   "version": "3.7.1"
  }
 },
 "nbformat": 4,
 "nbformat_minor": 2
}
