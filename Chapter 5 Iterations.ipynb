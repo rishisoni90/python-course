{
 "cells": [
  {
   "cell_type": "code",
   "execution_count": null,
   "metadata": {},
   "outputs": [],
   "source": [
    "#indefinite loops continue to run as long as some condition is met\n",
    "n = 5\n",
    "while n > 0 :\n",
    "    print(n)\n",
    "    n = n - 1\n",
    "print(n)\n",
    "print('Blastoff!')"
   ]
  },
  {
   "cell_type": "code",
   "execution_count": null,
   "metadata": {},
   "outputs": [],
   "source": [
    "#that sounds a lot like \"if\" conditions, but \"if\" conditions only execute once\n",
    "#\"while\" loop will continue to execute (loop back to the beginning) until the condition is no longer met\n",
    "n = 5\n",
    "if n > 0 :\n",
    "    print(n)\n",
    "    n = n - 1\n",
    "print(n)\n",
    "print('Blastoff!')"
   ]
  },
  {
   "cell_type": "code",
   "execution_count": null,
   "metadata": {},
   "outputs": [],
   "source": [
    "#infinite loop is a bug we need to squash! ****Interrupt your kernel to stop the loop***\n",
    "n = 5\n",
    "while n > 0 :\n",
    "    inp = input('What is your name?')\n",
    "    print(\"Welcome to INSY5336!\", inp,\"!\")"
   ]
  },
  {
   "cell_type": "code",
   "execution_count": null,
   "metadata": {},
   "outputs": [],
   "source": [
    "#dead code simple doesn't produce any result because the condition was never met in the first place\n",
    "n = 0\n",
    "while n > 0 :\n",
    "    print('Hello')\n",
    "    print('World')\n",
    "print('Done!')\n",
    "print(n)"
   ]
  },
  {
   "cell_type": "code",
   "execution_count": null,
   "metadata": {},
   "outputs": [],
   "source": [
    "#we can combine the conditional execution to specify an existing condition for your loop.\n",
    "while True:\n",
    "    line = input('> ')\n",
    "    if line == 'done' or 'stop' or 'I have had enough' :\n",
    "        break\n",
    "    print(line)\n",
    "print('Done!')"
   ]
  },
  {
   "cell_type": "code",
   "execution_count": null,
   "metadata": {},
   "outputs": [],
   "source": [
    "#this is how we fix the previous infinite loop\n",
    "n = 5\n",
    "while n > 0 :\n",
    "    inp = input('What is your name?')\n",
    "    if inp == 'stop' :\n",
    "        break\n",
    "    else:\n",
    "        print(\"Welcome to INSY5336!\", inp,\"!\")\n",
    "print('Done!')"
   ]
  },
  {
   "cell_type": "code",
   "execution_count": null,
   "metadata": {},
   "outputs": [],
   "source": [
    "#continue terminates the current loop and sends the control back to the beginning to begin the next iteration\n",
    "#so we can skip certain inputs\n",
    "n = 5\n",
    "while n > 0 :\n",
    "    inp = input('What is your name?')\n",
    "    if inp == 'stop' :\n",
    "        break\n",
    "    elif inp == 'no one':\n",
    "        continue    \n",
    "    else:\n",
    "        print(\"Welcome to INSY5336!\", inp,\"!\")\n",
    "print('Done!')"
   ]
  },
  {
   "cell_type": "code",
   "execution_count": null,
   "metadata": {},
   "outputs": [],
   "source": [
    "#break in for loop\n",
    "for i in [5, 4, 3, 2, 1] :\n",
    "    print(i)\n",
    "    break\n",
    "print('Blastoff!')"
   ]
  },
  {
   "cell_type": "code",
   "execution_count": null,
   "metadata": {},
   "outputs": [],
   "source": [
    "# we can also set a condition to trigger break, note that break will stop the entire iteration\n",
    "for i in [5, 4, 3, 2, 1] :\n",
    "    if i == 2:\n",
    "        break\n",
    "    print(i)\n",
    "print('Blastoff!')"
   ]
  },
  {
   "cell_type": "code",
   "execution_count": null,
   "metadata": {},
   "outputs": [],
   "source": [
    "#continue in for loop, note continue will skip the current iteration\n",
    "for i in [5, 4, 3, 2, 1] :\n",
    "    continue\n",
    "    print(i)\n",
    "print('Blastoff!')"
   ]
  },
  {
   "cell_type": "code",
   "execution_count": null,
   "metadata": {},
   "outputs": [],
   "source": [
    "for i in [5, 4, 3, 2, 1] :\n",
    "    print(i)\n",
    "    continue\n",
    "print('Blastoff!')"
   ]
  },
  {
   "cell_type": "code",
   "execution_count": null,
   "metadata": {},
   "outputs": [],
   "source": [
    "# we can also set a condition to trigger continue, note that break will only stop one iteration\n",
    "for i in [5, 4, 3, 2, 1] :\n",
    "    if i == 2:\n",
    "        continue\n",
    "    print(i)\n",
    "print('Blastoff!')"
   ]
  },
  {
   "cell_type": "code",
   "execution_count": null,
   "metadata": {},
   "outputs": [],
   "source": [
    "#range, beginning, end, and step (optional)\n",
    "for i in range(1,10,2):\n",
    "    print(i)\n",
    "print('Blastoff!')"
   ]
  },
  {
   "cell_type": "code",
   "execution_count": null,
   "metadata": {},
   "outputs": [],
   "source": [
    "#python requires the beginning to be smaller than the end, so unfortunately we cannot do a countdown\n",
    "for i in range(10,1):\n",
    "    print(i)\n",
    "print('Blastoff!')"
   ]
  },
  {
   "cell_type": "code",
   "execution_count": null,
   "metadata": {},
   "outputs": [],
   "source": [
    "for i in range(1,4):\n",
    "    print(i)\n",
    "    i=i-1\n",
    "    print(i)\n",
    "print('Done')"
   ]
  },
  {
   "cell_type": "code",
   "execution_count": null,
   "metadata": {},
   "outputs": [],
   "source": [
    "a = [1,2,3]\n",
    "\n",
    "for i in a:\n",
    "    a.append(i)\n",
    "    print(i)\n",
    "#after the first loop, a = [1,2,3,1]"
   ]
  },
  {
   "cell_type": "code",
   "execution_count": null,
   "metadata": {},
   "outputs": [],
   "source": [
    "#construct a loop though your data\n",
    "import pandas as pd\n",
    "dataset = pd.read_excel('Chapter 5 practice.xlsx');\n",
    "print(dataset[:5])\n",
    "student_id = dataset['MAV_ID']   "
   ]
  },
  {
   "cell_type": "code",
   "execution_count": null,
   "metadata": {},
   "outputs": [],
   "source": [
    "for id_number in student_id:\n",
    "    if id_number > 570000:\n",
    "        print(id_number, 'is admitted in 2020.')\n",
    "    else:\n",
    "        print(id_number, 'is admitted prior to 2020.')"
   ]
  },
  {
   "cell_type": "code",
   "execution_count": null,
   "metadata": {},
   "outputs": [],
   "source": [
    "print('start')\n",
    "count=0\n",
    "for thing in [9, 41, 12, 3, 74, 15] :\n",
    "    count=count+1\n",
    "    print(thing)\n",
    "print('end')\n",
    "print('count=',count)"
   ]
  },
  {
   "cell_type": "code",
   "execution_count": null,
   "metadata": {},
   "outputs": [],
   "source": [
    "#finding the number of observations that s > 10\n",
    "print('start')\n",
    "count=0\n",
    "for thing in [9, 41, 12, 3, 74, 15] :\n",
    "    if thing > 10:\n",
    "        count=count + 1\n",
    "    print(thing)\n",
    "print('end')\n",
    "print('count of number greater than 10 =',count)"
   ]
  },
  {
   "cell_type": "code",
   "execution_count": null,
   "metadata": {
    "scrolled": true
   },
   "outputs": [],
   "source": [
    "print('start')\n",
    "total=0\n",
    "for thing in [9, 41, 12, 3, 74, 15] :\n",
    "    total=total+thing\n",
    "    print(thing)\n",
    "print('end')\n",
    "print('Total=',total)"
   ]
  },
  {
   "cell_type": "code",
   "execution_count": null,
   "metadata": {},
   "outputs": [],
   "source": [
    "count = 0\n",
    "sum = 0\n",
    "print('start', 'count', 'sum')\n",
    "print('value', count, sum)\n",
    "for value in [9, 41, 12, 3, 74, 15] :\n",
    "    count = count + 1\n",
    "    sum = sum + value\n",
    "    print(value, count, sum)\n",
    "print('end', count, sum, sum/count)"
   ]
  },
  {
   "cell_type": "code",
   "execution_count": null,
   "metadata": {},
   "outputs": [],
   "source": [
    "smallest_so_far = 999\n",
    "print('Before', smallest_so_far)\n",
    "for the_num in [9, 41, 12, 3, 74, 15] :\n",
    "   if the_num < smallest_so_far :\n",
    "      smallest_so_far = the_num\n",
    "   print(smallest_so_far, the_num)\n",
    "\n",
    "print('After', smallest_so_far)\n"
   ]
  },
  {
   "cell_type": "code",
   "execution_count": null,
   "metadata": {},
   "outputs": [],
   "source": [
    "#if you don't want to start with an arbitrary value\n",
    "#then you can start as None\n",
    "smallest = None\n",
    "print('Before')\n",
    "for value in [9, 41, 12, 3, 74, 15] :\n",
    "    if smallest is None : \n",
    "        smallest = value\n",
    "    elif value < smallest : \n",
    "        smallest = value\n",
    "    print(smallest, value)\n",
    "print('After', smallest)\n"
   ]
  },
  {
   "cell_type": "code",
   "execution_count": null,
   "metadata": {},
   "outputs": [],
   "source": [
    "#note the difference between == and is\n",
    "a = 5\n",
    "b = 5.0\n",
    "if a == b : \n",
    "    print('a and b are equal')\n",
    "else: \n",
    "    print('a and b are NOT equal')"
   ]
  },
  {
   "cell_type": "code",
   "execution_count": null,
   "metadata": {},
   "outputs": [],
   "source": [
    "a = 5\n",
    "b = 5.0\n",
    "if a is b : \n",
    "    print('a and b are the same')\n",
    "else: \n",
    "    print('a and b are NOT the same')"
   ]
  },
  {
   "cell_type": "code",
   "execution_count": null,
   "metadata": {},
   "outputs": [],
   "source": [
    "#is operator can also operate on type\n",
    "a = '5'\n",
    "if type(a) is int:\n",
    "    print('a is an integer')\n",
    "else:\n",
    "    print('a is not an integer')"
   ]
  },
  {
   "cell_type": "code",
   "execution_count": null,
   "metadata": {},
   "outputs": [],
   "source": [
    "#you can also start with a false, and update it to true if certain condition is met\n",
    "found = False\n",
    "print('Before', found)\n",
    "for id_number in student_id: \n",
    "    if id_number == 545675:\n",
    "        found = True\n",
    "        print(id_number, 'target found')\n",
    "    print(id_number)\n",
    "print('After', found)"
   ]
  },
  {
   "cell_type": "code",
   "execution_count": null,
   "metadata": {},
   "outputs": [],
   "source": []
  }
 ],
 "metadata": {
  "kernelspec": {
   "display_name": "Python 3",
   "language": "python",
   "name": "python3"
  },
  "language_info": {
   "codemirror_mode": {
    "name": "ipython",
    "version": 3
   },
   "file_extension": ".py",
   "mimetype": "text/x-python",
   "name": "python",
   "nbconvert_exporter": "python",
   "pygments_lexer": "ipython3",
   "version": "3.7.1"
  }
 },
 "nbformat": 4,
 "nbformat_minor": 2
}
