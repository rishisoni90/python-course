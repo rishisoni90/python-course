{
 "cells": [
  {
   "cell_type": "code",
   "execution_count": null,
   "metadata": {},
   "outputs": [],
   "source": [
    "#you can only perfrom one arismathic operation on strings: concatenation\n",
    "str1 = \"Hello\"\n",
    "str2 = 'there'\n",
    "bob = str1 + str2\n",
    "print(bob)"
   ]
  },
  {
   "cell_type": "code",
   "execution_count": null,
   "metadata": {},
   "outputs": [],
   "source": [
    "#all user input through the input() function are strings by default\n",
    "inp1 = input('> ')\n",
    "#enter 10\n",
    "inp2 = input('> ')\n",
    "#enter 20\n",
    "x = inp1 + inp2 #this becomes concatenation\n",
    "print(x)"
   ]
  },
  {
   "cell_type": "code",
   "execution_count": null,
   "metadata": {},
   "outputs": [],
   "source": [
    "#and this will give you an error\n",
    "y = inp1 - inp2\n",
    "print(y)"
   ]
  },
  {
   "cell_type": "code",
   "execution_count": null,
   "metadata": {},
   "outputs": [],
   "source": [
    "#python sequences start with 0, not 1\n",
    "fruit = 'banana'\n",
    "letter = fruit[1]\n",
    "print(letter)"
   ]
  },
  {
   "cell_type": "code",
   "execution_count": null,
   "metadata": {},
   "outputs": [],
   "source": [
    "#so to get the correct first letter in a string, we need to invoke 0\n",
    "print(fruit[0])"
   ]
  },
  {
   "cell_type": "code",
   "execution_count": null,
   "metadata": {},
   "outputs": [],
   "source": [
    "#we cannot assess something out of range\n",
    "print(fruit[7])"
   ]
  },
  {
   "cell_type": "code",
   "execution_count": null,
   "metadata": {},
   "outputs": [],
   "source": [
    "#we can obtain the length of a string\n",
    "fruit = 'banana'\n",
    "x = len(fruit)\n",
    "print(x)"
   ]
  },
  {
   "cell_type": "code",
   "execution_count": null,
   "metadata": {},
   "outputs": [],
   "source": [
    "#or simply\n",
    "print(len('banana'))"
   ]
  },
  {
   "cell_type": "code",
   "execution_count": null,
   "metadata": {},
   "outputs": [],
   "source": [
    "#after getting the length x, we know that letters in the string starts at 0, ends at (x-1)\n",
    "#so in banana, 'b' starts at 0, and 'a' ends at 5\n",
    "import re\n",
    "match = re.search('e', 'photosynthesis')\n",
    "print(match)"
   ]
  },
  {
   "cell_type": "code",
   "execution_count": null,
   "metadata": {},
   "outputs": [],
   "source": [
    "print('photosynthesis'[10])"
   ]
  },
  {
   "cell_type": "code",
   "execution_count": null,
   "metadata": {},
   "outputs": [],
   "source": [
    "print('photosynthesis'[11])"
   ]
  },
  {
   "cell_type": "code",
   "execution_count": null,
   "metadata": {},
   "outputs": [],
   "source": [
    "#or as we did before, finding a word\n",
    "story = \"Elsa of Arendelle is a fictional character who appears in Walt Disney Animation Studios' 53rd animated film Frozen and its sequel Frozen II.\"\n",
    "match = re.search('Disney', story)\n",
    "print(match)"
   ]
  },
  {
   "cell_type": "code",
   "execution_count": null,
   "metadata": {},
   "outputs": [],
   "source": [
    "print(story[63:69])"
   ]
  },
  {
   "cell_type": "code",
   "execution_count": null,
   "metadata": {},
   "outputs": [],
   "source": [
    "#space and punctuation counts too!\n",
    "phrase = 'Going bananas!'\n",
    "x = len(phrase)\n",
    "print(x)"
   ]
  },
  {
   "cell_type": "code",
   "execution_count": null,
   "metadata": {},
   "outputs": [],
   "source": [
    "#so note the Roman number we used in the story, the number 'II' is actually 2 'I' so it takes up 2 spaces\n",
    "print(len('Frozen II'))"
   ]
  },
  {
   "cell_type": "code",
   "execution_count": null,
   "metadata": {},
   "outputs": [],
   "source": [
    "#if we want to look at each cahracter in a string, we can use while loop\n",
    "fruit = 'banana'\n",
    "index = 0\n",
    "while index < len(fruit): \n",
    "    letter = fruit[index]\n",
    "    print(index, letter.upper())\n",
    "    index = index + 1"
   ]
  },
  {
   "cell_type": "code",
   "execution_count": null,
   "metadata": {},
   "outputs": [],
   "source": [
    "#but for loop is much more elegant\n",
    "phrase = 'Going bananas!'\n",
    "for letter in phrase:\n",
    "    print(letter.upper())"
   ]
  },
  {
   "cell_type": "code",
   "execution_count": null,
   "metadata": {},
   "outputs": [],
   "source": [
    "#when splicing, note the sequence, the ending is not included\n",
    "#so when you call [0:4], it prints out letters number 0, 1, 2, 3\n",
    "#4 is not included\n",
    "s = 'Monty Python'\n",
    "print(s[0:4])"
   ]
  },
  {
   "cell_type": "code",
   "execution_count": null,
   "metadata": {},
   "outputs": [],
   "source": [
    "#note that when you want to print a single letter, you can call its exact sequence, or a range\n",
    "print(s[6])"
   ]
  },
  {
   "cell_type": "code",
   "execution_count": null,
   "metadata": {},
   "outputs": [],
   "source": [
    "#this gives the same result\n",
    "print(s[6:7])"
   ]
  },
  {
   "cell_type": "code",
   "execution_count": null,
   "metadata": {},
   "outputs": [],
   "source": [
    "#this is the same result as re.search gives us\n",
    "import re\n",
    "match = re.search('P', s)\n",
    "print(match)"
   ]
  },
  {
   "cell_type": "code",
   "execution_count": null,
   "metadata": {},
   "outputs": [],
   "source": [
    "#remember the import dataset example we did?\n",
    "import pandas as pd\n",
    "dataset = pd.read_excel('Chapter 5 practice.xlsx');\n",
    "print(dataset[:5])"
   ]
  },
  {
   "cell_type": "code",
   "execution_count": null,
   "metadata": {},
   "outputs": [],
   "source": [
    "#the [m:n] expression specifies how many elements we want from a list\n",
    "#if we leave out the end, it will print everything from m to the end\n",
    "print(dataset[4:])"
   ]
  },
  {
   "cell_type": "code",
   "execution_count": null,
   "metadata": {},
   "outputs": [],
   "source": [
    "#if we leave out both, it will print out everything\n",
    "print(dataset[:])\n",
    "\n",
    "#this is the same as \n",
    "print(dataset)"
   ]
  },
  {
   "cell_type": "code",
   "execution_count": null,
   "metadata": {},
   "outputs": [],
   "source": [
    "#we can compare strings\n",
    "score1 = '50'\n",
    "score2 = '50'\n",
    "if score1 == score2:\n",
    "    print('They are the same score.')\n",
    "else:\n",
    "    print('They are different.')"
   ]
  },
  {
   "cell_type": "code",
   "execution_count": null,
   "metadata": {},
   "outputs": [],
   "source": [
    "#remeber the difference between == and is? \n",
    "a = 5\n",
    "b = 5.0\n",
    "if a == b : \n",
    "    print('a and b are equal')\n",
    "else: \n",
    "    print('a and b are NOT equal')"
   ]
  },
  {
   "cell_type": "code",
   "execution_count": null,
   "metadata": {},
   "outputs": [],
   "source": [
    "a = 5\n",
    "b = 5.0\n",
    "if a is b : \n",
    "    print('a and b are the same')\n",
    "else: \n",
    "    print('a and b are NOT the same')"
   ]
  },
  {
   "cell_type": "code",
   "execution_count": null,
   "metadata": {},
   "outputs": [],
   "source": [
    "#for strings, it is not possible to have different types but same value, so == and is function similarly\n",
    "score1 = '50'\n",
    "score2 = '50'\n",
    "score1 == score2"
   ]
  },
  {
   "cell_type": "code",
   "execution_count": null,
   "metadata": {},
   "outputs": [],
   "source": [
    "score1 = '50'\n",
    "score2 = '50'\n",
    "score1 is score2"
   ]
  },
  {
   "cell_type": "code",
   "execution_count": null,
   "metadata": {},
   "outputs": [],
   "source": [
    "#we can even compare strings using < and >\n",
    "#it compares the alphabetical order of the letters, letters that appear later is larger\n",
    "a = 'Penny'\n",
    "b = 'Pencil'\n",
    "if a > b:\n",
    "    print(a, 'comes after', b, 'in the alphabet')\n",
    "else:\n",
    "    print(b, 'comes after', a, 'in the alphabet')"
   ]
  },
  {
   "cell_type": "code",
   "execution_count": null,
   "metadata": {},
   "outputs": [],
   "source": [
    "#note that capital letters will always take precedence\n",
    "a = 'algebra'\n",
    "b = 'Zebra'\n",
    "if a > b:\n",
    "    print(a, 'comes after', b, 'in the alphabet')\n",
    "else:\n",
    "    print(b, 'comes after', a, 'in the alphabet')"
   ]
  },
  {
   "cell_type": "code",
   "execution_count": null,
   "metadata": {},
   "outputs": [],
   "source": [
    "#the in operater works similarly to re.search, but only gives boolean value\n",
    "fruit = 'banana'\n",
    "'nan' in fruit"
   ]
  },
  {
   "cell_type": "code",
   "execution_count": null,
   "metadata": {},
   "outputs": [],
   "source": [
    "'cat' in 'banana'"
   ]
  },
  {
   "cell_type": "code",
   "execution_count": null,
   "metadata": {},
   "outputs": [],
   "source": [
    "import re\n",
    "match = re.search('nan', fruit)\n",
    "print(match)"
   ]
  },
  {
   "cell_type": "code",
   "execution_count": null,
   "metadata": {},
   "outputs": [],
   "source": [
    "import re\n",
    "match = re.search('cat', fruit)\n",
    "print(match)"
   ]
  },
  {
   "cell_type": "code",
   "execution_count": null,
   "metadata": {},
   "outputs": [],
   "source": []
  }
 ],
 "metadata": {
  "kernelspec": {
   "display_name": "Python 3",
   "language": "python",
   "name": "python3"
  },
  "language_info": {
   "codemirror_mode": {
    "name": "ipython",
    "version": 3
   },
   "file_extension": ".py",
   "mimetype": "text/x-python",
   "name": "python",
   "nbconvert_exporter": "python",
   "pygments_lexer": "ipython3",
   "version": "3.7.1"
  }
 },
 "nbformat": 4,
 "nbformat_minor": 2
}
