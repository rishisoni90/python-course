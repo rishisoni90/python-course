{
 "cells": [
  {
   "cell_type": "code",
   "execution_count": null,
   "metadata": {},
   "outputs": [],
   "source": [
    "import re\n",
    "line = \"F  m: Your best friend\"\n",
    "if re.search('^F..m:', line):\n",
    "     print(line)"
   ]
  },
  {
   "cell_type": "code",
   "execution_count": null,
   "metadata": {},
   "outputs": [],
   "source": [
    "import re\n",
    "x = 'My 2 favorite numbers are 19 and 42'\n",
    "y = re.findall('[0-9]+',x)\n",
    "print(y)"
   ]
  },
  {
   "cell_type": "code",
   "execution_count": null,
   "metadata": {},
   "outputs": [],
   "source": [
    "#using [], we are specifying that we only want integers\n",
    "#but the search result is not what we want\n",
    "#because by default, the re.findall() return results in length of 1\n",
    "import re\n",
    "x = 'My 2 favorite numbers are 19 and 42'\n",
    "y = re.findall('[0-9]',x)\n",
    "print(y)"
   ]
  },
  {
   "cell_type": "code",
   "execution_count": null,
   "metadata": {},
   "outputs": [],
   "source": [
    "x = 'My 2 favorite numbers are 19 and 42'\n",
    "y = re.findall('[0-9]',x)\n",
    "print(y)"
   ]
  },
  {
   "cell_type": "code",
   "execution_count": null,
   "metadata": {},
   "outputs": [],
   "source": [
    "#so using +, whenever the search finds an integer \n",
    "#it will look in both directions to see if there are other integers connected with it\n",
    "import re\n",
    "x = 'My 2 favorite numbers are 19 and 42'\n",
    "y = re.findall('[0-9]+',x)\n",
    "print(y)"
   ]
  },
  {
   "cell_type": "code",
   "execution_count": null,
   "metadata": {},
   "outputs": [],
   "source": [
    "#you might want to ask, what will happen if we use * here\n",
    "import re\n",
    "x = 'My 2 favorite numbers are 19 and 42'\n",
    "y = re.findall('[0-9]*',x)\n",
    "print(y)"
   ]
  },
  {
   "cell_type": "code",
   "execution_count": 1,
   "metadata": {},
   "outputs": [
    {
     "name": "stdout",
     "output_type": "stream",
     "text": [
      "['From: Using the :']\n"
     ]
    }
   ],
   "source": [
    "#greedy matching and wildcard can produce unwanted results\n",
    "#know your data! Test if your re expression is correct\n",
    "import re\n",
    "x = 'From: Using the : character'\n",
    "y = re.findall('^F.+:', x)\n",
    "print(y)"
   ]
  },
  {
   "cell_type": "code",
   "execution_count": 1,
   "metadata": {},
   "outputs": [
    {
     "name": "stdout",
     "output_type": "stream",
     "text": [
      "['From:']\n"
     ]
    }
   ],
   "source": [
    "#non-greedy matching \n",
    "import re\n",
    "x = 'From: Using the : character'\n",
    "y = re.findall('^F.+?:', x)\n",
    "print(y)"
   ]
  },
  {
   "cell_type": "code",
   "execution_count": null,
   "metadata": {},
   "outputs": [],
   "source": [
    "y = re.findall('[aeiou]+',x)\n",
    "print(y)"
   ]
  },
  {
   "cell_type": "code",
   "execution_count": 2,
   "metadata": {},
   "outputs": [
    {
     "name": "stdout",
     "output_type": "stream",
     "text": [
      "['a', 'abi', 'a', 'a', 'a', 'a', 'a']\n"
     ]
    }
   ],
   "source": [
    "import re\n",
    "x = 'He has these super abilities after bring blasted by gamma ray'\n",
    "y = re.findall('ab?i?',x)\n",
    "print(y)"
   ]
  },
  {
   "cell_type": "code",
   "execution_count": null,
   "metadata": {},
   "outputs": [],
   "source": [
    "#so using the \"mbox.txt\" example.\n",
    "#Suppose we want to extract the email address of all the senders and put them into different categories\n",
    "#we have to first extracted the email address only from the \"From:\" lines\n",
    "#and we extracted by slicing a fixed length from it \n",
    "fhandle=open('mbox.txt')\n",
    "senders = []\n",
    "for line in fhandle:\n",
    "    if not line.startswith('From:') : #ignore all lines that don't start with From:\n",
    "        continue\n",
    "    senders.append(line)\n",
    "level1 = []\n",
    "level2 = []\n",
    "level3 = []\n",
    "level4 = []   \n",
    "for i in senders:\n",
    "    if 'umich.edu' in i:\n",
    "        edupos = i.find('edu')\n",
    "        level1.append(i[6:edupos+3])\n",
    "    elif '.edu' in i:\n",
    "        edupos = i.find('edu')\n",
    "        level2.append(i[6:edupos+3])\n",
    "    elif '.ac.' in i:\n",
    "        acpos = i.find('ac.')\n",
    "        level3.append(i[6:acpos+5])\n",
    "    else:\n",
    "        atpos = i.find('@')\n",
    "        sppos = i.find(' ',atpos)\n",
    "        level4.append(i[6:sppos])\n",
    "        \n",
    "        \n",
    "print('Level 1 emails are:')\n",
    "for i in level1:\n",
    "    print(i)\n",
    "print('Level 2 emails are:')\n",
    "for i in level2:\n",
    "    print(i)\n",
    "print('Level 3 emails are:')\n",
    "for i in level3:\n",
    "    print(i)\n",
    "print('Level 4 emails are:')\n",
    "for i in level4:\n",
    "    print(i)"
   ]
  },
  {
   "cell_type": "code",
   "execution_count": null,
   "metadata": {},
   "outputs": [],
   "source": [
    "#what if we want to extract the email address from these ones?\n",
    "From stephen.marquard@uct.ac.za Sat Jan 5 09:14:16 2008\n",
    "Return-Path: <postmaster@collab.sakaiproject.org>\n",
    "for <source@collab.sakaiproject.org>;\n",
    "Received: (from apache@localhost)\n",
    "Author: stephen.marquard@uct.ac.za"
   ]
  },
  {
   "cell_type": "code",
   "execution_count": null,
   "metadata": {},
   "outputs": [],
   "source": [
    "#\\S means it is a non-blank characters\n",
    "#+ means at least 1 or more characters\n",
    "# together they mean at least 1 or more non-blank characters\n",
    "import re\n",
    "x = 'A message from csev@umich.edu to cwen@iupui.edu about meeting @2PM'\n",
    "lst = re.findall('\\S+@\\S+', x)\n",
    "print(lst)"
   ]
  },
  {
   "cell_type": "code",
   "execution_count": null,
   "metadata": {},
   "outputs": [],
   "source": [
    "#without +\n",
    "import re\n",
    "x = 'A message from csev@umich.edu to cwen@iupui.edu about meeting @2PM'\n",
    "lst = re.findall('\\S@\\S', x)\n",
    "print(lst)"
   ]
  },
  {
   "cell_type": "code",
   "execution_count": null,
   "metadata": {},
   "outputs": [],
   "source": [
    "import re\n",
    "x = 'A message from csev@umich.edu to cwen@iupui.edu about meeting @2PM'\n",
    "lst = re.findall('+@+', x)\n",
    "print(lst)"
   ]
  },
  {
   "cell_type": "code",
   "execution_count": null,
   "metadata": {},
   "outputs": [],
   "source": [
    "import re\n",
    "x = 'Return-Path: <postmaster@collab.sakaiproject.org>'\n",
    "lst = re.findall('\\S+@\\S+', x)\n",
    "print(lst)"
   ]
  },
  {
   "cell_type": "code",
   "execution_count": null,
   "metadata": {},
   "outputs": [],
   "source": [
    "#remove punctuations\n",
    "import re\n",
    "x = 'Return-Path: <postmaster@collab.sakaiproject.org>'\n",
    "lst = re.findall('[a-zA-Z0-9]\\S*@\\S*[a-zA-Z0-9]', x)\n",
    "print(lst)"
   ]
  },
  {
   "cell_type": "code",
   "execution_count": null,
   "metadata": {},
   "outputs": [],
   "source": [
    "#so another way to do the above question\n",
    "#to do searching and parsing at the same time, we use () to indicate the part we want to extract\n",
    "fhandle=open('mbox.txt')\n",
    "for line in fhandle:\n",
    "    line = line.rstrip()\n",
    "    senders = re.findall('^From (\\S+@\\S+)', line)\n",
    "    print(senders)"
   ]
  },
  {
   "cell_type": "code",
   "execution_count": null,
   "metadata": {},
   "outputs": [],
   "source": [
    "#to remove the empty lines\n",
    "fhandle=open('mbox.txt')\n",
    "for line in fhandle:\n",
    "    line = line.rstrip()\n",
    "    senders = re.findall('^From (\\S+@\\S+)', line)\n",
    "    if len(senders) > 0:\n",
    "        print(senders)"
   ]
  },
  {
   "cell_type": "code",
   "execution_count": null,
   "metadata": {},
   "outputs": [],
   "source": []
  }
 ],
 "metadata": {
  "kernelspec": {
   "display_name": "Python 3",
   "language": "python",
   "name": "python3"
  },
  "language_info": {
   "codemirror_mode": {
    "name": "ipython",
    "version": 3
   },
   "file_extension": ".py",
   "mimetype": "text/x-python",
   "name": "python",
   "nbconvert_exporter": "python",
   "pygments_lexer": "ipython3",
   "version": "3.7.1"
  }
 },
 "nbformat": 4,
 "nbformat_minor": 2
}
