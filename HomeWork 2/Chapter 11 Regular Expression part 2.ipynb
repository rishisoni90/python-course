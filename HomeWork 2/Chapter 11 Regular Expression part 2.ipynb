{
 "cells": [
  {
   "cell_type": "code",
   "execution_count": null,
   "metadata": {},
   "outputs": [],
   "source": [
    "#lets try to extract the domain names from the emails\n",
    "data = 'From stephen.marquard@uct.ac.za Sat Jan  5 09:14:16 2008'\n",
    "atpos = data.find('@')\n",
    "sppos = data.find(' ',atpos)\n",
    "host = data[atpos+1 : sppos]\n",
    "print(host)"
   ]
  },
  {
   "cell_type": "code",
   "execution_count": null,
   "metadata": {},
   "outputs": [],
   "source": [
    "#another way is use split\n",
    "line = 'From stephen.marquard@uct.ac.za Sat Jan  5 09:14:16 2008'\n",
    "words = line.split()\n",
    "print(words)"
   ]
  },
  {
   "cell_type": "code",
   "execution_count": null,
   "metadata": {},
   "outputs": [],
   "source": [
    "email = words[1]\n",
    "pieces = email.split('@')\n",
    "print(pieces)"
   ]
  },
  {
   "cell_type": "code",
   "execution_count": null,
   "metadata": {},
   "outputs": [],
   "source": [
    "host = pieces[1]\n",
    "print(host)\n",
    "#but as you can see, this requires multiple steps"
   ]
  },
  {
   "cell_type": "code",
   "execution_count": null,
   "metadata": {},
   "outputs": [],
   "source": [
    "#using re can simplify the process\n",
    "import re \n",
    "line = 'From stephen.marquard@uct.ac.za Sat Jan  5 09:14:16 2008'\n",
    "y = re.findall('@([^ ]*)',line)\n",
    "print(y)"
   ]
  },
  {
   "cell_type": "markdown",
   "metadata": {},
   "source": [
    "# Lets look at what is happening above\n",
    "## '@([^ ]*)'\n",
    "## first, we want to search and match the @ sign\n",
    "## then we indicate using () of the part we want to extract, which is right after the @ sign\n",
    "## inside the (), we have [^ ]*\n",
    "## [] is indicating accetable match\n",
    "## by adding a ^ sign, we are inversing the logic, in English, it mean \"not a ...\"\n",
    "## which means we want exact the opposite, \"not a space\"\n",
    "## [^ ] means that we don't want empty spaces, so it is the same as [\\S]\n",
    "## and * means we want 0 or more characters"
   ]
  },
  {
   "cell_type": "code",
   "execution_count": null,
   "metadata": {},
   "outputs": [],
   "source": [
    "#so you can see, there are multiple ways to code the same thing in re\n",
    "# [^ ] is equal to [\\S] is equal to [^\\s]\n",
    "import re \n",
    "line = 'From stephen.marquard@uct.ac.za Sat Jan  5 09:14:16 2008'\n",
    "y = re.findall('@([\\S]*)',line)\n",
    "print(y)"
   ]
  },
  {
   "cell_type": "code",
   "execution_count": null,
   "metadata": {},
   "outputs": [],
   "source": [
    "import re \n",
    "line = 'From stephen.marquard@uct.ac.za Sat Jan  5 09:14:16 2008'\n",
    "y = re.findall('@([^a\\s]*)',line)\n",
    "print(y)"
   ]
  },
  {
   "cell_type": "code",
   "execution_count": null,
   "metadata": {},
   "outputs": [],
   "source": [
    "#\\s is the opposite of \\S, which matches blank space\n",
    "import re \n",
    "line = 'From stephen.marquard@uct.ac.za Sat Jan  5 09:14:16 2008'\n",
    "y = re.findall('@([^\\s]*)',line)\n",
    "print(y)"
   ]
  },
  {
   "cell_type": "code",
   "execution_count": null,
   "metadata": {},
   "outputs": [],
   "source": [
    "#so to extract all the domain names from the mbox file\n",
    "fhandle=open('mbox.txt')\n",
    "for line in fhandle:\n",
    "    line = line.rstrip()\n",
    "    domain = re.findall('^From .*@([^ ]*)', line)\n",
    "    if len(domain) > 0:\n",
    "        print(domain)"
   ]
  },
  {
   "cell_type": "code",
   "execution_count": null,
   "metadata": {},
   "outputs": [],
   "source": [
    "#escape character\n",
    "#in re, $ is used to indicate the end, opposite of ^\n",
    "import re\n",
    "line = \"From: Your best fr1end\"\n",
    "if re.search('f.*$', line):\n",
    "     print(line)"
   ]
  },
  {
   "cell_type": "code",
   "execution_count": null,
   "metadata": {},
   "outputs": [],
   "source": [
    "import re\n",
    "line = \"From: Your best + fr1end\"\n",
    "if re.search('\\+', line):\n",
    "     print(line)"
   ]
  },
  {
   "cell_type": "code",
   "execution_count": null,
   "metadata": {},
   "outputs": [],
   "source": [
    "#but if we want to use it literally, we add a \\ in front of it\n",
    "import re\n",
    "x = 'We just received $10.00 for cookies.'\n",
    "y = re.findall('\\$[0-9.]+',x)\n",
    "print(y)"
   ]
  },
  {
   "cell_type": "code",
   "execution_count": null,
   "metadata": {},
   "outputs": [],
   "source": [
    "#so back to HW2, how to remove punctuation using re?\n",
    "line = \"This!! is... a, sent+ence: with \"\"a% lot& of@ punctuations in-between for new_user?\"\n",
    "newline = re.sub(r'[^\\w\\s]','',line)\n",
    "print(newline)"
   ]
  },
  {
   "cell_type": "markdown",
   "metadata": {},
   "source": [
    "# A lot of new things here:\n",
    "\n",
    "## 1. re.sub(pattern, replacement, string) \n",
    "## Search for pattern in string, and replace it with replacement\n",
    "## so in this case, we are searching for r'[^\\w\\s]', and replacing it with \"\"(nothing) in variable line\n",
    "\n",
    "## 2. r means we are taking the raw value of the string that follows\n",
    "## it will ignore the escape code \"\\\", so it is commonly used with RE, which has a lot of \"\\\" patterns such as \\s \\w\n",
    "\n",
    "## 3. The pattern we are looking for is [^\\w\\s]\n",
    "## we know [] means acceptable match\n",
    "## we know ^ means \"not a ....\"\n",
    "## \\w means word characters (including a-z, A-Z, 0-9, and underscore \"_\")\n",
    "## \\s means blank space\n",
    "## fun fact: \\w \\s, like many other re functions, has the same meaning in JAVA\n",
    "## so we are looking for characters that are not word characters and not blank space\n",
    "## which means all punctuations\n"
   ]
  },
  {
   "cell_type": "code",
   "execution_count": null,
   "metadata": {},
   "outputs": [],
   "source": [
    "#without r\n",
    "#we need to use escape code before our \\w\\s so that python knows we are trying to call re functions\n",
    "#this leads to double \\, such as \\\\w\\\\s\n",
    "line = \"This!! is... a, sent+ence: with \"\"a% lot& of@ punctuations in-between for new_user?\"\n",
    "newline = re.sub('[^\\\\w\\\\s]','',line)\n",
    "print(newline)"
   ]
  },
  {
   "cell_type": "code",
   "execution_count": null,
   "metadata": {},
   "outputs": [],
   "source": [
    "#another way\n",
    "#\\w basically means a-zA-Z0-9_, note that \"_\" underscore is included as word characters\n",
    "line = \"This!! is... a, sent+ence: with \"\"a% lot& of@ punctuations in-between for new_user?\"\n",
    "newline = re.sub(r'[^a-zA-Z0-9_\\s]','',line)\n",
    "print(newline)"
   ]
  },
  {
   "cell_type": "code",
   "execution_count": null,
   "metadata": {},
   "outputs": [],
   "source": [
    "#\\s basically means space, so we can also replace it\n",
    "line = \"This!! is... a, sent+ence: with \"\"a% lot& of@ punctuations in-between for new_user?\"\n",
    "newline = re.sub(r'[^a-zA-Z0-9_ ]','',line)\n",
    "print(newline)"
   ]
  },
  {
   "cell_type": "code",
   "execution_count": null,
   "metadata": {},
   "outputs": [],
   "source": [
    "\\S is the opposite of \\s"
   ]
  },
  {
   "cell_type": "code",
   "execution_count": null,
   "metadata": {},
   "outputs": [],
   "source": [
    "#if you do a little search, you may find that \\W is the opposite of \\w\n",
    "#but be careful, \\W means non-word characters, but it matches much more than ^\\w\n",
    "#it conflicts with \\S\n",
    "#so we cannot use \\W\\S\n",
    "line = 'This!! is... a, sent+ence: with \"\"a% lot& of@ punctuations in-between for new_user?'\n",
    "newline = re.sub(r'[\\W\\S]','',line)\n",
    "print(newline)"
   ]
  },
  {
   "cell_type": "code",
   "execution_count": null,
   "metadata": {},
   "outputs": [],
   "source": [
    "#the output is blank, because everything matches and got replaced with \n",
    "#we can test out by using \\W alone\n",
    "#you can see space is included in \\W, so spaces are removed\n",
    "line = 'This!! is... a, sent+ence: with \"\"a% lot& of@ punctuations in-between for new_user?'\n",
    "newline = re.sub(r'[\\W]','',line)\n",
    "print(newline)"
   ]
  },
  {
   "cell_type": "code",
   "execution_count": null,
   "metadata": {},
   "outputs": [],
   "source": [
    "#because the terms in the [] accepatble match is read together\n",
    "#similar to conditional operators of and, meaning \"a and b\"\n",
    "#so \\W and \\S means both a space and not a space, which is everything\n",
    "#[^\\w\\s] is also read together with \"and\"\n",
    "#not a word and not a space\n",
    "#so this is the correct logic"
   ]
  }
 ],
 "metadata": {
  "kernelspec": {
   "display_name": "Python 3",
   "language": "python",
   "name": "python3"
  },
  "language_info": {
   "codemirror_mode": {
    "name": "ipython",
    "version": 3
   },
   "file_extension": ".py",
   "mimetype": "text/x-python",
   "name": "python",
   "nbconvert_exporter": "python",
   "pygments_lexer": "ipython3",
   "version": "3.7.1"
  }
 },
 "nbformat": 4,
 "nbformat_minor": 2
}
