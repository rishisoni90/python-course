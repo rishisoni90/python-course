{
 "cells": [
  {
   "cell_type": "markdown",
   "metadata": {},
   "source": [
    "# Let's first address the question I posted in Chapter 6 Strings"
   ]
  },
  {
   "cell_type": "code",
   "execution_count": null,
   "metadata": {},
   "outputs": [],
   "source": [
    "#for your thinking, why are we getting this result?\n",
    "#how do we correct it so that python knows a and b are in fact the same?\n",
    "a = 257\n",
    "b = 257\n",
    "a is b"
   ]
  },
  {
   "cell_type": "code",
   "execution_count": null,
   "metadata": {},
   "outputs": [],
   "source": [
    "#you are giving python 2 objects at the same time\n",
    "#in order to speed up execution, python does not have the time to compare these two objects"
   ]
  },
  {
   "cell_type": "code",
   "execution_count": null,
   "metadata": {},
   "outputs": [],
   "source": [
    "#but when python have a moment to \"think\", it will do the comparison in the memory and see the truth\n",
    "def test():\n",
    "    a = 257\n",
    "    b = 257\n",
    "    print(a is b)\n",
    "\n",
    "test()"
   ]
  },
  {
   "cell_type": "code",
   "execution_count": null,
   "metadata": {},
   "outputs": [],
   "source": [
    "#for integers from -5 to 256, python has integer caching, so python will immediately know the correct result\n",
    "a = 100\n",
    "b = 100\n",
    "a is b"
   ]
  },
  {
   "cell_type": "code",
   "execution_count": null,
   "metadata": {},
   "outputs": [],
   "source": [
    "#for strings, python has string interning, so python will also immediately know the correct result\n",
    "a = 'String'\n",
    "b = 'String'\n",
    "a is b"
   ]
  },
  {
   "cell_type": "code",
   "execution_count": null,
   "metadata": {},
   "outputs": [],
   "source": [
    "#but for flaots...not so lucky\n",
    "a = 10.0\n",
    "b = 10.0\n",
    "a is b"
   ]
  },
  {
   "cell_type": "code",
   "execution_count": null,
   "metadata": {},
   "outputs": [],
   "source": [
    "a = 10.0\n",
    "b = 10.0\n",
    "a == b"
   ]
  },
  {
   "cell_type": "code",
   "execution_count": null,
   "metadata": {},
   "outputs": [],
   "source": [
    "#even this will not work\n",
    "a = 10.0\n",
    "b = 10.0\n",
    "if a is b:\n",
    "    print('They are the same')\n",
    "else:\n",
    "    print('They are not the same')"
   ]
  },
  {
   "cell_type": "code",
   "execution_count": null,
   "metadata": {},
   "outputs": [],
   "source": [
    "#so we have to go some extra mile every time we want to compare floats\n",
    "def test():\n",
    "    a = 10.0\n",
    "    b = 10.0\n",
    "    print(a is b)\n",
    "\n",
    "test()"
   ]
  },
  {
   "cell_type": "markdown",
   "metadata": {},
   "source": [
    "# The second unfinished point is how to read a file into a dataset, we will leave that to Wednesday, how to convert files, sentences, or strings into lists"
   ]
  },
  {
   "cell_type": "markdown",
   "metadata": {},
   "source": [
    "## Let us first start on Chapter 8"
   ]
  },
  {
   "cell_type": "code",
   "execution_count": null,
   "metadata": {},
   "outputs": [],
   "source": [
    "#a list is not limited to one type of value\n",
    "students = [ 'Jim', 'Jane', 12, 14, 17.8]\n",
    "students[4]"
   ]
  },
  {
   "cell_type": "code",
   "execution_count": null,
   "metadata": {},
   "outputs": [],
   "source": [
    "#why is it important? \n",
    "import pandas as pd\n",
    "dataset = pd.read_excel('Chapter 8 practice.xlsx');\n",
    "print(dataset[:10])\n",
    "student_id = dataset['MAV_ID']   "
   ]
  },
  {
   "cell_type": "code",
   "execution_count": null,
   "metadata": {
    "scrolled": true
   },
   "outputs": [],
   "source": [
    "#say we want to analyse the student id\n",
    "print(student_id)"
   ]
  },
  {
   "cell_type": "code",
   "execution_count": null,
   "metadata": {},
   "outputs": [],
   "source": [
    "#list can handle different types of values\n",
    "type(student_id[3])"
   ]
  },
  {
   "cell_type": "code",
   "execution_count": null,
   "metadata": {},
   "outputs": [],
   "source": [
    "type(student_id[8])"
   ]
  },
  {
   "cell_type": "code",
   "execution_count": null,
   "metadata": {},
   "outputs": [],
   "source": [
    "#in the above example, data is a 2X10 matrix \n",
    "import pandas as pd\n",
    "dataset = pd.read_excel('Chapter 8 practice.xlsx');\n",
    "print(dataset)"
   ]
  },
  {
   "cell_type": "code",
   "execution_count": null,
   "metadata": {},
   "outputs": [],
   "source": [
    "#And we are making one column into a list\n",
    "#we are also saving this list to a variable\n",
    "#you will notice that by default, pandas does not read the column title\n",
    "#instead, it is implicitly stored in memory as the column name\n",
    "#so use good variable names to help you remeber what it is!\n",
    "student_id = dataset['MAV_ID']  \n",
    "print(student_id)"
   ]
  },
  {
   "cell_type": "code",
   "execution_count": null,
   "metadata": {},
   "outputs": [],
   "source": [
    "#go through each element in a list\n",
    "for i in student_id:\n",
    "    print('Happy new semester,', i)"
   ]
  },
  {
   "cell_type": "code",
   "execution_count": null,
   "metadata": {},
   "outputs": [],
   "source": [
    "#the 10th element is offset by 1\n",
    "print(student_id[9])"
   ]
  },
  {
   "cell_type": "code",
   "execution_count": null,
   "metadata": {},
   "outputs": [],
   "source": [
    "#when you give a range of n:m, remember it will only print n through m-1\n",
    "print(student_id[:9])"
   ]
  },
  {
   "cell_type": "code",
   "execution_count": null,
   "metadata": {},
   "outputs": [],
   "source": [
    "#strings can be converted into a list of letters\n",
    "#this is a teaser, we will talk more about it on Wednesday\n",
    "phrase = 'Monty Python'\n",
    "for i in phrase:\n",
    "    print(i)"
   ]
  },
  {
   "cell_type": "code",
   "execution_count": null,
   "metadata": {},
   "outputs": [],
   "source": [
    "#lists are mutable\n",
    "#review, strings are not mutable\n",
    "fruit = 'Banana'\n",
    "fruit[0] = 'b'"
   ]
  },
  {
   "cell_type": "code",
   "execution_count": null,
   "metadata": {},
   "outputs": [],
   "source": [
    "#when you change a strring, the id of it in the memory changes\n",
    "fruit = 'Banana'\n",
    "print(id(fruit))\n",
    "fruit2 = fruit.lower()\n",
    "print(fruit2)\n",
    "print(id(fruit2))"
   ]
  },
  {
   "cell_type": "code",
   "execution_count": null,
   "metadata": {},
   "outputs": [],
   "source": [
    "#but when you change a strings, its id does not change\n",
    "lotto = [2, 14, 26, 41, 63]\n",
    "print(id(lotto))\n",
    "lotto[2] = 28\n",
    "print(lotto)\n",
    "print(id(lotto))"
   ]
  },
  {
   "cell_type": "code",
   "execution_count": null,
   "metadata": {},
   "outputs": [],
   "source": [
    "#Lets next go over some of the operations we can perform on lists\n",
    "greet = 'Hello Bob'\n",
    "print(len(greet))"
   ]
  },
  {
   "cell_type": "code",
   "execution_count": null,
   "metadata": {},
   "outputs": [],
   "source": [
    "x = [ 1, 2, 'joe', 99]\n",
    "print(len(x))"
   ]
  },
  {
   "cell_type": "code",
   "execution_count": null,
   "metadata": {},
   "outputs": [],
   "source": [
    "#if a list contains another list, the lower-level list counts as 1 element, no matter how many elements it contains\n",
    "x = [ 1, 2, ['joe', 'john', 100], 99]\n",
    "print(len(x))"
   ]
  },
  {
   "cell_type": "code",
   "execution_count": null,
   "metadata": {},
   "outputs": [],
   "source": [
    "#range function, why do we need it\n",
    "#let's look back at updating a list\n",
    "lotto = [2, 14, 26, 41, 63]\n",
    "lotto[2] = 28"
   ]
  },
  {
   "cell_type": "code",
   "execution_count": null,
   "metadata": {},
   "outputs": [],
   "source": [
    "#we cannot tell python the exact element we want to change\n",
    "lotto[14] = 15"
   ]
  },
  {
   "cell_type": "code",
   "execution_count": null,
   "metadata": {},
   "outputs": [],
   "source": [
    "#we need the index of an element to update it\n",
    "#so while this loop can read the elements in a list, it cannot change the elements\n",
    "for i in lotto:\n",
    "    print(i)"
   ]
  },
  {
   "cell_type": "code",
   "execution_count": null,
   "metadata": {},
   "outputs": [],
   "source": [
    "#range() gives us exactly that! range() offsets number by 1\n",
    "range(10)"
   ]
  },
  {
   "cell_type": "code",
   "execution_count": null,
   "metadata": {},
   "outputs": [],
   "source": [
    "#lets put this range into a list and see what are the indeces it generated\n",
    "list(range(10))"
   ]
  },
  {
   "cell_type": "code",
   "execution_count": null,
   "metadata": {},
   "outputs": [],
   "source": [
    "#so to get all the index in the lotto list\n",
    "#first, we need to know how long the list is, i.e. how many elements are there\n",
    "len(lotto)"
   ]
  },
  {
   "cell_type": "code",
   "execution_count": null,
   "metadata": {},
   "outputs": [],
   "source": [
    "#then we generate the index, range() will automatically offset it by 1\n",
    "range(len(lotto))"
   ]
  },
  {
   "cell_type": "code",
   "execution_count": null,
   "metadata": {},
   "outputs": [],
   "source": [
    "#for every i in this range, we will change lotto[i] to a new value\n",
    "for i in range(len(lotto)):\n",
    "    lotto[i] = lotto[i]*2\n",
    "print(lotto)"
   ]
  },
  {
   "cell_type": "code",
   "execution_count": null,
   "metadata": {},
   "outputs": [],
   "source": [
    "#we can concatnate 2 or more lists together, it doesn't change the original lists\n",
    "a = [1, 2, 3]\n",
    "b = [4, 5, 6]\n",
    "c = a + b\n",
    "print(c)"
   ]
  },
  {
   "cell_type": "code",
   "execution_count": null,
   "metadata": {},
   "outputs": [],
   "source": [
    "#like strings, the concatenation happen at the sequence we add them together\n",
    "d = b + a\n",
    "print(d)"
   ]
  },
  {
   "cell_type": "code",
   "execution_count": null,
   "metadata": {},
   "outputs": [],
   "source": [
    "x = []\n",
    "type(x)"
   ]
  },
  {
   "cell_type": "code",
   "execution_count": null,
   "metadata": {},
   "outputs": [],
   "source": [
    "dir(x)"
   ]
  },
  {
   "cell_type": "code",
   "execution_count": null,
   "metadata": {},
   "outputs": [],
   "source": [
    "x.append?"
   ]
  },
  {
   "cell_type": "code",
   "execution_count": null,
   "metadata": {},
   "outputs": [],
   "source": []
  }
 ],
 "metadata": {
  "kernelspec": {
   "display_name": "Python 3",
   "language": "python",
   "name": "python3"
  },
  "language_info": {
   "codemirror_mode": {
    "name": "ipython",
    "version": 3
   },
   "file_extension": ".py",
   "mimetype": "text/x-python",
   "name": "python",
   "nbconvert_exporter": "python",
   "pygments_lexer": "ipython3",
   "version": "3.7.1"
  }
 },
 "nbformat": 4,
 "nbformat_minor": 2
}
