{
 "cells": [
  {
   "cell_type": "code",
   "execution_count": null,
   "metadata": {},
   "outputs": [],
   "source": [
    "inp = input('please enter a number')\n",
    "try:\n",
    "    x = int(inp)\n",
    "    if x >= 10:\n",
    "        print('x is a double digit number')\n",
    "        if x <100:\n",
    "            print('and x is not a triple digit number')\n",
    "            if x%2 == 0:\n",
    "                print('x is also an even number')\n",
    "            else:\n",
    "                print('but x is a odd number')\n",
    "except:\n",
    "    print('not a valid input')\n",
    "finally:\n",
    "    y = x*4\n",
    "    print(y)\n",
    "z = x + y\n",
    "print(z)"
   ]
  },
  {
   "cell_type": "markdown",
   "metadata": {},
   "source": [
    "# Chapter 8 part 2"
   ]
  },
  {
   "cell_type": "code",
   "execution_count": null,
   "metadata": {},
   "outputs": [],
   "source": [
    "#we need to create a list first before we can put elements into it\n",
    "#we cannot directly say, create a list and let the first element be 'book'\n",
    "#because the list name is not in the memory yet, and python does not what we want to do\n",
    "stuff[0] = 'book'"
   ]
  },
  {
   "cell_type": "code",
   "execution_count": null,
   "metadata": {},
   "outputs": [],
   "source": [
    "#we can only create a list by actually putting something in it\n",
    "#but then we need to replace the elements with something we want, which is not very direct\n",
    "stuff = [ 'socks', 'shirt', 'perfume']"
   ]
  },
  {
   "cell_type": "code",
   "execution_count": null,
   "metadata": {},
   "outputs": [],
   "source": [
    "#create an empty list\n",
    "stuff = list()"
   ]
  },
  {
   "cell_type": "code",
   "execution_count": null,
   "metadata": {},
   "outputs": [],
   "source": [
    "#or\n",
    "stuff = []"
   ]
  },
  {
   "cell_type": "code",
   "execution_count": null,
   "metadata": {},
   "outputs": [],
   "source": [
    "#elements are arranged in the order of the input\n",
    "stuff.append('book')\n",
    "stuff.append(99)\n",
    "print(stuff)"
   ]
  },
  {
   "cell_type": "code",
   "execution_count": null,
   "metadata": {},
   "outputs": [],
   "source": [
    "#new elements are always added to the end\n",
    "stuff.append(99)\n",
    "print(stuff)"
   ]
  },
  {
   "cell_type": "code",
   "execution_count": null,
   "metadata": {},
   "outputs": [],
   "source": [
    "#append() only works with single elements\n",
    "# if you try to append another list, it will be treated as a single element\n",
    "x=['a','b','c']\n",
    "y=['d','e']\n",
    "x.append(y)\n",
    "print(x)\n",
    "len(x)\n"
   ]
  },
  {
   "cell_type": "code",
   "execution_count": null,
   "metadata": {},
   "outputs": [],
   "source": [
    "#so when we want to merge 2 datasets, we use the extend() function\n",
    "x=['a','b','c']\n",
    "y=['d','e']\n",
    "x.extend(y)\n",
    "print(x)\n",
    "len(x)\n"
   ]
  },
  {
   "cell_type": "code",
   "execution_count": null,
   "metadata": {},
   "outputs": [],
   "source": [
    "#note the difference between extend() and + and +=\n",
    "x=['a','b','c']\n",
    "print(id(x))\n",
    "y=['d','e']\n",
    "x = x + y\n",
    "print(x)\n",
    "len(x)\n",
    "print(id(x))"
   ]
  },
  {
   "cell_type": "code",
   "execution_count": null,
   "metadata": {},
   "outputs": [],
   "source": [
    "#lists are mutable, and extend() modifies the original list\n",
    "x=['a','b','c']\n",
    "print(id(x))\n",
    "y=['d','e']\n",
    "x.extend(y)\n",
    "print(x)\n",
    "len(x)\n",
    "print(id(x))"
   ]
  },
  {
   "cell_type": "code",
   "execution_count": null,
   "metadata": {},
   "outputs": [],
   "source": [
    "#+= works similar to extend in that it does not create a new list object\n",
    "#this is extra material, it will not be in exams, just for your information\n",
    "x=['a','b','c']\n",
    "print(id(x))\n",
    "y=['d','e']\n",
    "x += y\n",
    "print(x)\n",
    "len(x)\n",
    "print(id(x))"
   ]
  },
  {
   "cell_type": "code",
   "execution_count": null,
   "metadata": {},
   "outputs": [],
   "source": [
    "some = [1, 9, 21, 10, 16]\n",
    "9 in some"
   ]
  },
  {
   "cell_type": "code",
   "execution_count": null,
   "metadata": {},
   "outputs": [],
   "source": [
    "20 not in some"
   ]
  },
  {
   "cell_type": "code",
   "execution_count": null,
   "metadata": {},
   "outputs": [],
   "source": [
    "#sorting\n",
    "friends = [ 'Joseph', 'Glenn', 'Sally' ]\n",
    "friends.sort()\n",
    "print(friends)"
   ]
  },
  {
   "cell_type": "code",
   "execution_count": null,
   "metadata": {},
   "outputs": [],
   "source": [
    "friends.sort(reverse=True)\n",
    "print(friends)"
   ]
  },
  {
   "cell_type": "code",
   "execution_count": null,
   "metadata": {},
   "outputs": [],
   "source": [
    "#we can achieve the same thing using reverse()\n",
    "friends = [ 'Joseph', 'Glenn', 'Sally' ]\n",
    "friends.reverse()\n",
    "print(friends)"
   ]
  },
  {
   "cell_type": "code",
   "execution_count": null,
   "metadata": {},
   "outputs": [],
   "source": [
    "#so in HW1, this was also a possible solution\n",
    "x = [5,1,7]\n",
    "x.sort()\n",
    "median = x[1]\n",
    "print(median)"
   ]
  },
  {
   "cell_type": "code",
   "execution_count": null,
   "metadata": {},
   "outputs": [],
   "source": [
    "y = [10,234,12,34]\n",
    "y.sort()\n",
    "median = (y[1] + y[2])/2\n",
    "print(median)"
   ]
  },
  {
   "cell_type": "code",
   "execution_count": null,
   "metadata": {},
   "outputs": [],
   "source": [
    "#counting occurances\n",
    "friends = [ 'Joseph', 'Glenn', 'Sally' ]\n",
    "friends.count('Joseph')"
   ]
  },
  {
   "cell_type": "code",
   "execution_count": null,
   "metadata": {},
   "outputs": [],
   "source": [
    "#here lets talk about some unique characteristics of strings\n",
    "#strings are iterables\n",
    "#you might have a clue from this\n",
    "phrase = 'Monty Python'\n",
    "for i in phrase:\n",
    "    print(i)"
   ]
  },
  {
   "cell_type": "code",
   "execution_count": null,
   "metadata": {},
   "outputs": [],
   "source": [
    "#what happens when you extend() a string to a list?\n",
    "#hint: extend() function takes a list\n",
    "x=['a','b','c']\n",
    "phrase = 'Monty Python'\n",
    "x.extend(phrase)\n",
    "print(x)"
   ]
  },
  {
   "cell_type": "code",
   "execution_count": null,
   "metadata": {},
   "outputs": [],
   "source": [
    "#so in many ways, strings is a list of letters\n",
    "phrase = 'Monty Python'\n",
    "phrase.count('y')"
   ]
  },
  {
   "cell_type": "code",
   "execution_count": null,
   "metadata": {},
   "outputs": [],
   "source": [
    "#dropping elements from lists\n",
    "#3 ways\n",
    "#first, if you know the index of the element\n",
    "x=['a','b','c']\n",
    "x.pop(1)\n",
    "print(x)"
   ]
  },
  {
   "cell_type": "code",
   "execution_count": null,
   "metadata": {},
   "outputs": [],
   "source": [
    "#if you know the value, then use remove()\n",
    "#useful when you want to remove observations with certain values from your dataset\n",
    "x=['a','b','c']\n",
    "x.remove('b')\n",
    "print(x)"
   ]
  },
  {
   "cell_type": "code",
   "execution_count": null,
   "metadata": {},
   "outputs": [],
   "source": [
    "#if you want to remove a certain range, use del\n",
    "#useful when say if your dataset has some kind of cutoff, like a deadline\n",
    "x=['a','b','c','c','c']\n",
    "del x[3:]\n",
    "print(x)"
   ]
  },
  {
   "cell_type": "code",
   "execution_count": null,
   "metadata": {},
   "outputs": [],
   "source": [
    "#so lets look at how we can convert strings to lists\n",
    "x='Mary had a little lamb'\n",
    "y=list(x)\n",
    "print(y)"
   ]
  },
  {
   "cell_type": "code",
   "execution_count": null,
   "metadata": {},
   "outputs": [],
   "source": [
    "#we can also read in individual words\n",
    "#similar to what we can do with the word tokenizer in nltk package\n",
    "x='Mary had a little lamb'\n",
    "y=x.split()\n",
    "print(y)"
   ]
  },
  {
   "cell_type": "code",
   "execution_count": null,
   "metadata": {},
   "outputs": [],
   "source": [
    "#similar to how we handle csv files\n",
    "#we can specify the delimiter\n",
    "#by default, delimiter is a space ' '\n",
    "x='spam+spam+spam'\n",
    "y=x.split('+')\n",
    "print(y)"
   ]
  },
  {
   "cell_type": "code",
   "execution_count": null,
   "metadata": {},
   "outputs": [],
   "source": [
    "#what if your data has a mixture of delimiters?\n",
    "#split can only recognize one pattern\n",
    "#we will talk about this in Chapter 11, regular expressions\n",
    "x = 'Hey! You - yes, I mean you, why did you send the spam+spam email?'"
   ]
  },
  {
   "cell_type": "code",
   "execution_count": null,
   "metadata": {},
   "outputs": [],
   "source": [
    "#the opposite of split() is join()\n",
    "t = ['pining', 'for', 'the', 'fjords']\n",
    "#because join() works on strings, not lists, you need to specify the delimiter first\n",
    "delimiter = ' '\n",
    "delimiter.join(t)"
   ]
  },
  {
   "cell_type": "code",
   "execution_count": null,
   "metadata": {},
   "outputs": [],
   "source": [
    "#other delimeters\n",
    "delimiter = ','\n",
    "delimiter.join(t)"
   ]
  },
  {
   "cell_type": "code",
   "execution_count": null,
   "metadata": {},
   "outputs": [],
   "source": [
    "#now remeber what we talked about last time?\n",
    "#integer caching and string interning\n",
    "a='banana'\n",
    "b='banana'\n",
    "print(a is b)\n",
    "print(id(a),id(b))"
   ]
  },
  {
   "cell_type": "code",
   "execution_count": null,
   "metadata": {},
   "outputs": [],
   "source": [
    "#Lists are unique, they may contain exactly the same elements, but they are treated as different objects\n",
    "a=[1,2,3]\n",
    "b=[1,2,3]\n",
    "print(a is b)\n",
    "print(id(a),id(b))"
   ]
  },
  {
   "cell_type": "code",
   "execution_count": null,
   "metadata": {},
   "outputs": [],
   "source": [
    "#although objects are unique, you can assign aliases to lists\n",
    "a=[1,2,3]\n",
    "b=a #here b becomes an alias of list a\n",
    "print(a is b)\n",
    "print(id(a),id(b))"
   ]
  },
  {
   "cell_type": "code",
   "execution_count": null,
   "metadata": {},
   "outputs": [],
   "source": [
    "#aliasing is not a good practice when handling lists\n",
    "a=[1,2,3]\n",
    "b=a\n",
    "b[0]=17  #the first element of list b is changed\n",
    "print(a)\n",
    "#you will see that a is also changed"
   ]
  },
  {
   "cell_type": "code",
   "execution_count": null,
   "metadata": {},
   "outputs": [],
   "source": [
    "#so it is better to make a copy of list if you want to work on it\n",
    "a=[1,2,3]\n",
    "b=a[:] #here b becomes an exact copy of list a with all the elements of list a\n",
    "a[0]=17 #so when list a is changed, list b is not affected\n",
    "print(a,b)"
   ]
  },
  {
   "cell_type": "code",
   "execution_count": null,
   "metadata": {},
   "outputs": [],
   "source": [
    "#and the same can be achieved by the copy module\n",
    "import copy\n",
    "a=[1,2,3]\n",
    "b=copy.copy(a)\n",
    "a[0]=17\n",
    "print(a,b)\n"
   ]
  },
  {
   "cell_type": "code",
   "execution_count": null,
   "metadata": {},
   "outputs": [],
   "source": [
    "#when using list in functions, this is the correct way\n",
    "def delete_head(t):\n",
    "    del t[0]\n",
    "\n",
    "numbers=[1,2,3,4,5]\n",
    "delete_head(numbers)\n",
    "print(numbers)"
   ]
  },
  {
   "cell_type": "code",
   "execution_count": null,
   "metadata": {},
   "outputs": [],
   "source": [
    "#be very careful of whether your function modifies the list or returns a new list!\n",
    "def delete_head(t):\n",
    "    return t[1:]\n",
    "\n",
    "numbers=[1,2,3,4,5]\n",
    "delete_head(numbers)\n",
    "print(numbers)"
   ]
  },
  {
   "cell_type": "code",
   "execution_count": null,
   "metadata": {},
   "outputs": [],
   "source": [
    "#if the function returns a new list, then you need to assign it to another variable, not an alias!\n",
    "def delete_head(t):\n",
    "    return t[1:]\n",
    "\n",
    "numbers=[1,2,3,4,5]\n",
    "newnumbers = delete_head(numbers)\n",
    "print(numbers, newnumbers)"
   ]
  },
  {
   "cell_type": "code",
   "execution_count": null,
   "metadata": {},
   "outputs": [],
   "source": [
    "#so a little practice\n",
    "def merge_list(a,b):\n",
    "    return a.append(b)\n",
    "\n",
    "numbers=[1,2,3,4,5]\n",
    "numbers2 = [6,7,8]\n",
    "numbers3 = merge_list(numbers,numbers2)\n",
    "print(numbers, numbers2, numbers3)"
   ]
  },
  {
   "cell_type": "code",
   "execution_count": null,
   "metadata": {},
   "outputs": [],
   "source": [
    "def merge_list(a,b):\n",
    "    return a + b\n",
    "\n",
    "numbers=[1,2,3,4,5]\n",
    "numbers2 = [6,7,8]\n",
    "numbers3 = merge_list(numbers,numbers2)\n",
    "print(numbers, numbers2, numbers3)"
   ]
  },
  {
   "cell_type": "code",
   "execution_count": null,
   "metadata": {},
   "outputs": [],
   "source": []
  }
 ],
 "metadata": {
  "kernelspec": {
   "display_name": "Python 3",
   "language": "python",
   "name": "python3"
  },
  "language_info": {
   "codemirror_mode": {
    "name": "ipython",
    "version": 3
   },
   "file_extension": ".py",
   "mimetype": "text/x-python",
   "name": "python",
   "nbconvert_exporter": "python",
   "pygments_lexer": "ipython3",
   "version": "3.7.1"
  }
 },
 "nbformat": 4,
 "nbformat_minor": 2
}
