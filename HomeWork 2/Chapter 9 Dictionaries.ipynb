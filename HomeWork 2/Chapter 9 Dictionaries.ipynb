{
 "cells": [
  {
   "cell_type": "code",
   "execution_count": null,
   "metadata": {},
   "outputs": [],
   "source": [
    "#similar to list\n",
    "#3 ways to create a dicrtionary\n",
    "dic = {}\n",
    "dic = dict()\n",
    "dic = {12: 'Joseph', 75:'Glenn', 6:'Sally'}"
   ]
  },
  {
   "cell_type": "code",
   "execution_count": null,
   "metadata": {},
   "outputs": [],
   "source": [
    "friends = {12: 'Joseph', 75:'Glenn', 6:'Sally'}"
   ]
  },
  {
   "cell_type": "code",
   "execution_count": null,
   "metadata": {},
   "outputs": [],
   "source": [
    "#dictionaries were not ordered till python 3.6\n",
    "#now dictionaries are considered to be ordered in the sequence it was entered\n",
    "print(friends)"
   ]
  },
  {
   "cell_type": "code",
   "execution_count": null,
   "metadata": {},
   "outputs": [],
   "source": [
    "#in a list, each element has a value, and the index is implicitly stored\n",
    "lst = ['apple', 'banana', 'citrus', 'orange']\n",
    "print(lst)\n",
    "print(lst[2])"
   ]
  },
  {
   "cell_type": "code",
   "execution_count": null,
   "metadata": {},
   "outputs": [],
   "source": [
    "#in a dictionary, each element is a pair, a key + a value, both need to be specified\n",
    "dictionary = {'apple':'pomme', 'banana':'banane', 'citrus':'agrumes', 12:'orange'}\n",
    "print(dictionary)\n",
    "print(dictionary['citrus'])\n",
    "print(dictionary[12])"
   ]
  },
  {
   "cell_type": "code",
   "execution_count": null,
   "metadata": {},
   "outputs": [],
   "source": [
    "#although dictionaries are now ordered, you cannot call elements of it by index\n",
    "#there is a workaround for this, we will see later\n",
    "print(friends[1])"
   ]
  },
  {
   "cell_type": "code",
   "execution_count": null,
   "metadata": {},
   "outputs": [],
   "source": [
    "#instead of calling index, we call the key\n",
    "#note the key is invoked the same way as index, not in {} brackets.\n",
    "print(friends[6])"
   ]
  },
  {
   "cell_type": "code",
   "execution_count": null,
   "metadata": {},
   "outputs": [],
   "source": [
    "#for a list, we are adding elements into it directly\n",
    "#no need to bother about index, the sequence of our entry is used implicitly as the index \n",
    "lst = list()\n",
    "lst.append(21)\n",
    "lst.append(183)\n",
    "print(lst)"
   ]
  },
  {
   "cell_type": "code",
   "execution_count": null,
   "metadata": {},
   "outputs": [],
   "source": [
    "lst[1]"
   ]
  },
  {
   "cell_type": "code",
   "execution_count": null,
   "metadata": {},
   "outputs": [],
   "source": [
    "#for dictionaries, we need to add a key to the dictionary first, then map it to something\n",
    "#key first, then assign value\n",
    "ddd = dict()\n",
    "ddd['age'] = 21\n",
    "ddd['height'] = 180\n",
    "ddd[123] = 'income'\n",
    "print(ddd)"
   ]
  },
  {
   "cell_type": "code",
   "execution_count": null,
   "metadata": {},
   "outputs": [],
   "source": [
    "#lets talk about keys\n",
    "#keys can be almost* anything\n",
    "#including all immutable types, strings, int, float\n",
    "x={1:[1], 2:[2], 'anything':[3], 256.0:[4]}\n",
    "print(x)"
   ]
  },
  {
   "cell_type": "code",
   "execution_count": null,
   "metadata": {},
   "outputs": [],
   "source": [
    "#the only thing that keys cannot be: mutable types, list, dictionary, set, tuple\n",
    "y={[1]:1, [2]:2}\n",
    "print(y)"
   ]
  },
  {
   "cell_type": "code",
   "execution_count": null,
   "metadata": {},
   "outputs": [],
   "source": [
    "#values can be anything, literally, both mutable and immutable types\n",
    "x={1:[1], 2:[2], 'anything':[3], 256.0:[4], 'a list':[1,2,3,4], 'a dictionary':{1:'apple',2:'banana',3:'citrus'}}\n",
    "print(x)"
   ]
  },
  {
   "cell_type": "code",
   "execution_count": null,
   "metadata": {},
   "outputs": [],
   "source": [
    "#a key-value pair counts as 1 element, no matter what the value is\n",
    "x={1:[1], 2:[2], 'anything':[3], 256.0:[4], 'a list':[1,2,3,4], 'a dictionary':{1:'apple',2:'banana',3:'citrus'}}\n",
    "print(len(x))"
   ]
  },
  {
   "cell_type": "code",
   "execution_count": null,
   "metadata": {},
   "outputs": [],
   "source": [
    "#so it is a fancy list, why call it dictionary?\n",
    "dictionary = {'apple':'pomme', 'banana':'banane', 'citrus':'agrumes', 'orange':'orange'}\n",
    "#the flexibility allows us to map certain values to other values, which is handy in dictionaries\n",
    "inp = input('Please enter the fruit name in English: ')\n",
    "print('The fruit name is', dictionary[inp], 'in French')"
   ]
  },
  {
   "cell_type": "code",
   "execution_count": null,
   "metadata": {},
   "outputs": [],
   "source": [
    "#when building the dictionary, use the terms that you will be searching with as the key\n",
    "#so a French to English dictuionary would be:\n",
    "dictionary = {'pomme':'apple', 'banane':'banana', 'agrumes':'citrus', 'orange':'orange'}"
   ]
  },
  {
   "cell_type": "code",
   "execution_count": null,
   "metadata": {},
   "outputs": [],
   "source": [
    "#other examples:\n",
    "profile = {'age':'21', 'status':'enrolled', 'degree':'undergraduate', 'program':'MIS'}"
   ]
  },
  {
   "cell_type": "code",
   "execution_count": null,
   "metadata": {},
   "outputs": [],
   "source": [
    "print(profile['age'])"
   ]
  },
  {
   "cell_type": "code",
   "execution_count": null,
   "metadata": {},
   "outputs": [],
   "source": [
    "#remember that lists can contain other lists as an element? Lists can contain dictionaries too\n",
    "#we can then use dictionaries and lists together to create a rudimentary database\n",
    "Robert = {'name':'Robert Stark','age':'27', 'title':'King in the North', 'last seen':'The Twins'}\n",
    "Clegan = {'name':'Sandor Clegan','age':'40', 'title':'the Hound', 'last seen':\"King's landing\"}\n",
    "Daenerys = {'name':'Daenerys Targaryen','age':'22', 'title':'Daenerys of the House Targaryen, the First of Her Name, The Unburnt, Queen of the Andals, the Rhoynar and the First Men, Queen of Meereen, Khaleesi of the Great Grass Sea, Protector of the Realm, Lady Regent of the Seven Kingdoms, Breaker of Chains and Mother of Dragons', 'last seen':\"King's landing\"}\n",
    "characters = [Robert, Clegan, Daenerys]"
   ]
  },
  {
   "cell_type": "code",
   "execution_count": null,
   "metadata": {},
   "outputs": [],
   "source": [
    "for i in characters:\n",
    "    print ('The character named', i['name'], 'is also known as', i['title'])\n",
    "#later this semester we will look at class objects, which further simplify the process"
   ]
  },
  {
   "cell_type": "code",
   "execution_count": null,
   "metadata": {},
   "outputs": [],
   "source": [
    "#dictionaries are mutable, just like list\n",
    "#we specify the key, and then change the associated value\n",
    "print(lst, id(lst))\n",
    "lst[0] = 23\n",
    "print(lst, id(lst))"
   ]
  },
  {
   "cell_type": "code",
   "execution_count": null,
   "metadata": {},
   "outputs": [],
   "source": [
    "print(ddd, id(ddd))\n",
    "ddd['age'] = 23\n",
    "print(ddd, id(ddd))"
   ]
  },
  {
   "cell_type": "code",
   "execution_count": null,
   "metadata": {},
   "outputs": [],
   "source": [
    "#to add a key-value pair, just enter a new key\n",
    "ddd[456] = 'address'\n",
    "print(ddd)"
   ]
  },
  {
   "cell_type": "code",
   "execution_count": null,
   "metadata": {},
   "outputs": [],
   "source": [
    "#another way is the update()\n",
    "#update() takes an argument of another dictionary\n",
    "#if the key already exist in the dictionary, it updates the value\n",
    "ddd2 = {'age':30}\n",
    "ddd.update(ddd2)\n",
    "print(ddd)"
   ]
  },
  {
   "cell_type": "code",
   "execution_count": null,
   "metadata": {},
   "outputs": [],
   "source": [
    "#if the key is not in the dictionary, then it functions like append\n",
    "ddd3 = {'income':'numerous', 'address':'nowhere'}\n",
    "ddd.update(ddd3)\n",
    "print(ddd)"
   ]
  },
  {
   "cell_type": "code",
   "execution_count": null,
   "metadata": {},
   "outputs": [],
   "source": [
    "#to remove a key-value pair, use pop(), del()\n",
    "#remeber in list, pop() deals with index?\n",
    "#in dictionaries pop() deals with keys\n",
    "ddd.pop(456)\n",
    "print(ddd)"
   ]
  },
  {
   "cell_type": "code",
   "execution_count": null,
   "metadata": {},
   "outputs": [],
   "source": [
    "#pop() can be used to store the value you removed, in case you want to check back in the future\n",
    "removed = ddd.pop(123)\n",
    "print(ddd)\n",
    "print(removed)"
   ]
  },
  {
   "cell_type": "code",
   "execution_count": null,
   "metadata": {},
   "outputs": [],
   "source": [
    "#del() also deals with keys\n",
    "del ddd['age']\n",
    "print(ddd)"
   ]
  },
  {
   "cell_type": "code",
   "execution_count": null,
   "metadata": {},
   "outputs": [],
   "source": [
    "#what about the third one? remove() in list?\n",
    "#in list, remove() deals with values\n",
    "#does it work in dictionaries?\n",
    "ddd.remove(182)\n",
    "print(ddd)"
   ]
  },
  {
   "cell_type": "code",
   "execution_count": null,
   "metadata": {},
   "outputs": [],
   "source": [
    "#there is no way to change a key, so if we want to change a key, we need to remove it and then add a new one\n",
    "#here we use the pop() to store the value that we removed\n",
    "value = ddd.pop('height')\n",
    "ddd['BMI'] = value\n",
    "print(ddd)"
   ]
  },
  {
   "cell_type": "code",
   "execution_count": null,
   "metadata": {},
   "outputs": [],
   "source": [
    "#dictionaries are also unique, even if they contain the same elements\n",
    "friends = {12: 'Joseph', 75:'Glenn', 6:'Sally'}\n",
    "families = {12: 'Joseph', 75:'Glenn', 6:'Sally'}\n",
    "print(id(friends))\n",
    "print(id(families))"
   ]
  },
  {
   "cell_type": "code",
   "execution_count": null,
   "metadata": {},
   "outputs": [],
   "source": [
    "#search using the in operator\n",
    "#by default, the in operator searches for keys, not values\n",
    "friends = {12: 'Joseph', 75:'Glenn', 6:'Sally'}\n",
    "print(12 in friends)"
   ]
  },
  {
   "cell_type": "code",
   "execution_count": null,
   "metadata": {},
   "outputs": [],
   "source": [
    "print('Joseph' in friends)"
   ]
  },
  {
   "cell_type": "code",
   "execution_count": null,
   "metadata": {},
   "outputs": [],
   "source": [
    "#if we want to search by values, we need to extract the values first\n",
    "#this basically strips the keys and only retain the values\n",
    "friends = {12: 'Joseph', 75:'Glenn', 6:'Sally'}\n",
    "vals = friends.values()\n",
    "print(vals)\n",
    "#note that vals is not a list, though very similar to a list\n",
    "type(vals)"
   ]
  },
  {
   "cell_type": "code",
   "execution_count": null,
   "metadata": {},
   "outputs": [],
   "source": [
    "print('Joseph' in vals)"
   ]
  },
  {
   "cell_type": "code",
   "execution_count": null,
   "metadata": {},
   "outputs": [],
   "source": [
    "#using dictionary as a counter\n",
    "#the key is immutable, so we use the letter or word that we wish to count as the key, because it is not changing\n",
    "#the value is mutable, so we use that as the nth count, and it changes as we count\n",
    "word = 'brontosaurus'\n",
    "d = dict()\n",
    "for char in word:\n",
    "        if char not in d:\n",
    "            d[char] = 1\n",
    "        else:\n",
    "            d[char] = d[char] + 1\n",
    "print(d)"
   ]
  },
  {
   "cell_type": "code",
   "execution_count": null,
   "metadata": {},
   "outputs": [],
   "source": [
    "#the same with words\n",
    "counts = dict()\n",
    "names = ['csev', 'cwen', 'csev', 'zqian', 'cwen']\n",
    "for name in names :\n",
    "    if name not in counts: \n",
    "        counts[name] = 1\n",
    "    else :\n",
    "        counts[name] = counts[name] + 1\n",
    "print(counts)\n"
   ]
  },
  {
   "cell_type": "code",
   "execution_count": null,
   "metadata": {},
   "outputs": [],
   "source": [
    "#dictionary.get() function to make counting easier\n",
    "x = counts.get('csev', 0)\n",
    "print(x)"
   ]
  },
  {
   "cell_type": "code",
   "execution_count": null,
   "metadata": {},
   "outputs": [],
   "source": [
    "#get() check if the name (which is the key) is in the dictionary, if yes, it will retrieve its value\n",
    "if name in counts:\n",
    "    x = counts[name]\n",
    "else :\n",
    "    x = 0  #if not, it will create one with 0"
   ]
  },
  {
   "cell_type": "code",
   "execution_count": null,
   "metadata": {
    "scrolled": true
   },
   "outputs": [],
   "source": [
    "x = counts.get('ddd', 0)\n",
    "print(x)"
   ]
  },
  {
   "cell_type": "code",
   "execution_count": null,
   "metadata": {},
   "outputs": [],
   "source": [
    "#loop through each element\n",
    "counts = dict()\n",
    "names = ['csev', 'cwen', 'csev', 'zqian', 'cwen']\n",
    "for i in names:\n",
    "    counts[i] = counts.get(i, 0) + 1 #the default value is 0, so each time the element appears, it adds 1\n",
    "print(counts)"
   ]
  },
  {
   "cell_type": "code",
   "execution_count": null,
   "metadata": {},
   "outputs": [],
   "source": [
    "#why bother with dictionary? We already know how to count in a list\n",
    "#the counting output of a list is just a number, without a context\n",
    "friends = [ 'Joseph', 'Glenn', 'Sally' ]\n",
    "joseph_count = friends.count('Joseph')\n",
    "print(joseph_count)\n",
    "#the counting output of a dictionary is also a dictionary, which can be used in future analysis"
   ]
  },
  {
   "cell_type": "code",
   "execution_count": null,
   "metadata": {},
   "outputs": [],
   "source": [
    "counts = dict()\n",
    "print('Enter a line of text:')\n",
    "line = input('')\n",
    "\n",
    "words = line.split()\n",
    "\n",
    "print('Words:', words)\n",
    "\n",
    "print('Counting...')\n",
    "for word in words:\n",
    "    counts[word] = counts.get(word,0) + 1\n",
    "print('Counts', counts)"
   ]
  },
  {
   "cell_type": "code",
   "execution_count": null,
   "metadata": {},
   "outputs": [],
   "source": [
    "#try the following text \n",
    "\n",
    "But, soft! what light through yonder window breaks?\n",
    "It is the east, and Juliet is the sun.\n",
    "Arise, fair sun, and kill the envious moon,\n",
    "Who is already sick and pale with grief,"
   ]
  },
  {
   "cell_type": "code",
   "execution_count": null,
   "metadata": {},
   "outputs": [],
   "source": [
    "friends = { 'chuck' : 1 , 'fred' : 42, 'jan': 100}\n",
    "for key in friends:\n",
    "    print(key, friends[key])"
   ]
  },
  {
   "cell_type": "code",
   "execution_count": null,
   "metadata": {},
   "outputs": [],
   "source": [
    "jjj = { 'chuck' : 1 , 'fred' : 42, 'jan': 100}\n",
    "dir(jjj)"
   ]
  },
  {
   "cell_type": "code",
   "execution_count": null,
   "metadata": {},
   "outputs": [],
   "source": [
    "jjj.update?"
   ]
  },
  {
   "cell_type": "code",
   "execution_count": null,
   "metadata": {},
   "outputs": [],
   "source": [
    "#converting a dictionary to a list will retain the keys\n",
    "#values are lost\n",
    "print(list(jjj))"
   ]
  },
  {
   "cell_type": "code",
   "execution_count": null,
   "metadata": {},
   "outputs": [],
   "source": [
    "print(jjj.keys())"
   ]
  },
  {
   "cell_type": "code",
   "execution_count": null,
   "metadata": {},
   "outputs": [],
   "source": [
    "x = jjj.keys()"
   ]
  },
  {
   "cell_type": "code",
   "execution_count": null,
   "metadata": {},
   "outputs": [],
   "source": [
    "x[1]"
   ]
  },
  {
   "cell_type": "code",
   "execution_count": null,
   "metadata": {},
   "outputs": [],
   "source": [
    "print(jjj.values())"
   ]
  },
  {
   "cell_type": "code",
   "execution_count": null,
   "metadata": {},
   "outputs": [],
   "source": [
    "x = list(jjj.values())"
   ]
  },
  {
   "cell_type": "code",
   "execution_count": null,
   "metadata": {},
   "outputs": [],
   "source": [
    "x[1]"
   ]
  },
  {
   "cell_type": "code",
   "execution_count": null,
   "metadata": {},
   "outputs": [],
   "source": [
    "print(jjj.items())"
   ]
  },
  {
   "cell_type": "code",
   "execution_count": null,
   "metadata": {},
   "outputs": [],
   "source": [
    "jjj = { 'chuck' : 1 , 'fred' : 42, 'jan': 100}\n",
    "for aaa,bbb in jjj.items() :\n",
    "    print(aaa, bbb)"
   ]
  },
  {
   "cell_type": "code",
   "execution_count": null,
   "metadata": {},
   "outputs": [],
   "source": [
    "jjj = { 'chuck' : 1 , 'fred' : 42, 'jan': 100}\n",
    "for i in jjj.items() :\n",
    "    print(i)"
   ]
  },
  {
   "cell_type": "code",
   "execution_count": null,
   "metadata": {},
   "outputs": [],
   "source": []
  }
 ],
 "metadata": {
  "kernelspec": {
   "display_name": "Python 3",
   "language": "python",
   "name": "python3"
  },
  "language_info": {
   "codemirror_mode": {
    "name": "ipython",
    "version": 3
   },
   "file_extension": ".py",
   "mimetype": "text/x-python",
   "name": "python",
   "nbconvert_exporter": "python",
   "pygments_lexer": "ipython3",
   "version": "3.7.1"
  }
 },
 "nbformat": 4,
 "nbformat_minor": 2
}
