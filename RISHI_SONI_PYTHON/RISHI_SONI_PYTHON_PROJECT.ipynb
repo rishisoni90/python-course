{
 "cells": [
  {
   "cell_type": "code",
   "execution_count": 1,
   "metadata": {},
   "outputs": [],
   "source": [
    "import urllib.request, urllib.parse, urllib.error\n",
    "from bs4 import BeautifulSoup\n",
    "import ssl\n",
    "import requests\n",
    "\n",
    "# Ignore SSL certificate errors\n",
    "ctx = ssl.create_default_context()\n",
    "ctx.check_hostname = False\n",
    "ctx.verify_mode = ssl.CERT_NONE"
   ]
  },
  {
   "cell_type": "code",
   "execution_count": 2,
   "metadata": {},
   "outputs": [],
   "source": [
    "#we need to use a user agent here, because metacritics does not accept bots\n",
    "#we are using a tested go-to user agent here, it can be found online\n",
    "#read more about user agents here:\n",
    "#https://www.scrapehero.com/how-to-fake-and-rotate-user-agents-using-python-3/\n",
    "headers = {'User-Agent': 'Mozilla/5.0 (Macintosh; Intel Mac OS X 10_13_6) AppleWebKit/537.36 (KHTML, like Gecko) Chrome/70.0.3538.77 Safari/537.36'}"
   ]
  },
  {
   "cell_type": "code",
   "execution_count": 3,
   "metadata": {},
   "outputs": [
    {
     "name": "stdout",
     "output_type": "stream",
     "text": [
      "Enter - https://www.metacritic.com/browse/movies/score/metascore/all/filtered?sort=desc&page=0\n"
     ]
    }
   ],
   "source": [
    "url = input('Enter - ')\n",
    "page = requests.get(url, headers = headers)\n",
    "soup = BeautifulSoup(page.content, \"html.parser\")"
   ]
  },
  {
   "cell_type": "markdown",
   "metadata": {},
   "source": [
    "# METHOD TO GET THE MOVIE"
   ]
  },
  {
   "cell_type": "code",
   "execution_count": 4,
   "metadata": {
    "scrolled": true
   },
   "outputs": [
    {
     "name": "stdout",
     "output_type": "stream",
     "text": [
      "<class 'bs4.element.ResultSet'>\n",
      "<class 'bs4.element.ResultSet'>\n",
      "<class 'bs4.element.ResultSet'>\n",
      "<class 'bs4.element.ResultSet'>\n",
      "<class 'bs4.element.ResultSet'>\n"
     ]
    }
   ],
   "source": [
    "for i in range(5):\n",
    "    container = soup.find_all('td', class_ = 'clamp-summary-wrap')\n",
    "    print(type(container))"
   ]
  },
  {
   "cell_type": "code",
   "execution_count": 5,
   "metadata": {},
   "outputs": [
    {
     "data": {
      "text/plain": [
       "100"
      ]
     },
     "execution_count": 5,
     "metadata": {},
     "output_type": "execute_result"
    }
   ],
   "source": [
    "#then lets find out how many movies we got\n",
    "len(container)"
   ]
  },
  {
   "cell_type": "code",
   "execution_count": 6,
   "metadata": {},
   "outputs": [
    {
     "name": "stdout",
     "output_type": "stream",
     "text": [
      "['Citizen Kane', 'The Godfather', 'Rear Window', 'Casablanca', 'Boyhood', 'Three Colors: Red', 'Vertigo', 'Notorious', \"Singin' in the Rain\", 'City Lights', 'Moonlight', 'Intolerance', 'Pinocchio', 'Touch of Evil', 'The Lady Vanishes', 'The Treasure of the Sierra Madre', \"Pan's Labyrinth\", 'Some Like It Hot', 'North by Northwest', 'Hoop Dreams', 'Rashomon', 'All About Eve', 'Jules and Jim', 'The Wild Bunch', 'My Left Foot', 'The Third Man', 'Dr. Strangelove or: How I Learned to Stop Worrying and Love the Bomb', 'Quo Vadis, Aida?', 'Gone with the Wind', '4 Months, 3 Weeks and 2 Days', 'Psycho', 'Battleship Potemkin', 'A Streetcar Named Desire', 'American Graffiti', 'Dumbo', 'Roma', 'Ran', 'The Shop Around the Corner', '12 Angry Men', 'Manchester by the Sea', \"Rosemary's Baby\", 'The Maltese Falcon', '12 Years a Slave', 'Killer of Sheep', 'Nashville', 'Ratatouille', 'Parasite', 'Rocks', \"Don't Look Now\", 'The Grapes of Wrath', 'Children of Paradise (1945)', 'Mean Streets', 'The Lady Eve', 'Gravity', 'Fantasia', 'Spirited Away', 'Beauty and the Beast', 'Small Axe: Lovers Rock', 'Toy Story', 'The Bride of Frankenstein', 'The Social Network', 'My Fair Lady', 'Portrait of a Lady on Fire', 'I Am Not Your Negro', 'Woodstock', 'Double Indemnity', 'Snow White and the Seven Dwarfs', 'The Hurt Locker', 'Anatomy of a Murder', 'Zero Dark Thirty', 'Collective', 'A Separation', 'WALL-E', 'Carol', 'Before Midnight', 'Amour', 'Dunkirk', 'Summer of Soul (...Or, When the Revolution Could Not Be Televised)', 'The Man Who Shot Liberty Valance', 'The Searchers', '45 Years', 'Taxi Driver', 'Pulp Fiction', 'The Manchurian Candidate', 'Mr. Turner', 'The Irishman', 'Grave of the Fireflies (1988)', 'The Wild Child', 'Amazing Grace', 'Shadow of a Doubt', 'Inside Out', 'Sideways', \"Schindler's List\", 'Meet Me in St. Louis', 'The Apartment', 'Apocalypse Now', 'The Gunfighter', 'We Were Here', 'Lady Bird', 'Chimes at Midnight']\n"
     ]
    }
   ],
   "source": [
    "movie_names = []\n",
    "movies = container[:500] #here we get the top 50 movies we want\n",
    "for movie in movies:\n",
    "    name = movie.find('h3').text\n",
    "    movie_names.append(name)\n",
    "print(movie_names)"
   ]
  },
  {
   "cell_type": "code",
   "execution_count": 7,
   "metadata": {},
   "outputs": [
    {
     "data": {
      "text/plain": [
       "100"
      ]
     },
     "execution_count": 7,
     "metadata": {},
     "output_type": "execute_result"
    }
   ],
   "source": [
    "len(movie_names)"
   ]
  },
  {
   "cell_type": "code",
   "execution_count": 8,
   "metadata": {},
   "outputs": [
    {
     "name": "stdout",
     "output_type": "stream",
     "text": [
      "['/movie/citizen-kane', '/movie/the-godfather', '/movie/rear-window', '/movie/casablanca', '/movie/boyhood', '/movie/three-colors-red', '/movie/vertigo', '/movie/notorious-1946', '/movie/singin-in-the-rain', '/movie/city-lights', '/movie/moonlight-2016', '/movie/intolerance', '/movie/pinocchio-1940', '/movie/touch-of-evil', '/movie/the-lady-vanishes-1938', '/movie/the-treasure-of-the-sierra-madre', '/movie/pans-labyrinth', '/movie/some-like-it-hot', '/movie/north-by-northwest', '/movie/hoop-dreams', '/movie/rashomon', '/movie/all-about-eve', '/movie/jules-and-jim', '/movie/the-wild-bunch', '/movie/my-left-foot', '/movie/the-third-man', '/movie/dr-strangelove-or-how-i-learned-to-stop-worrying-and-love-the-bomb', '/movie/quo-vadis-aida', '/movie/gone-with-the-wind', '/movie/4-months-3-weeks-and-2-days', '/movie/psycho-1960', '/movie/battleship-potemkin', '/movie/a-streetcar-named-desire', '/movie/american-graffiti', '/movie/dumbo-1941', '/movie/roma', '/movie/ran', '/movie/the-shop-around-the-corner', '/movie/12-angry-men', '/movie/manchester-by-the-sea', '/movie/rosemarys-baby', '/movie/the-maltese-falcon', '/movie/12-years-a-slave', '/movie/killer-of-sheep', '/movie/nashville', '/movie/ratatouille', '/movie/parasite', '/movie/rocks', '/movie/dont-look-now', '/movie/the-grapes-of-wrath', '/movie/children-of-paradise', '/movie/mean-streets', '/movie/the-lady-eve', '/movie/gravity', '/movie/fantasia', '/movie/spirited-away', '/movie/beauty-and-the-beast-1991', '/movie/lovers-rock', '/movie/toy-story', '/movie/the-bride-of-frankenstein', '/movie/the-social-network', '/movie/my-fair-lady', '/movie/portrait-of-a-lady-on-fire', '/movie/i-am-not-your-negro', '/movie/woodstock-1970', '/movie/double-indemnity', '/movie/snow-white-and-the-seven-dwarfs', '/movie/the-hurt-locker', '/movie/anatomy-of-a-murder', '/movie/zero-dark-thirty', '/movie/collective', '/movie/a-separation', '/movie/wall-e', '/movie/carol', '/movie/before-midnight', '/movie/amour', '/movie/dunkirk', '/movie/summer-of-soul-or-when-the-revolution-could-not-be-televised', '/movie/the-man-who-shot-liberty-valance', '/movie/the-searchers', '/movie/45-years', '/movie/taxi-driver', '/movie/pulp-fiction', '/movie/the-manchurian-candidate-1962', '/movie/mr-turner', '/movie/the-irishman', '/movie/grave-of-the-fireflies', '/movie/the-wild-child', '/movie/amazing-grace-1972', '/movie/shadow-of-a-doubt', '/movie/inside-out-2015', '/movie/sideways', '/movie/schindlers-list', '/movie/meet-me-in-st-louis', '/movie/the-apartment', '/movie/apocalypse-now', '/movie/the-gunfighter', '/movie/we-were-here', '/movie/lady-bird', '/movie/chimes-at-midnight']\n"
     ]
    }
   ],
   "source": [
    "#now we need to click into each movie name in order to see detailed information\n",
    "#so we need to extract all the urls\n",
    "movie_links = []\n",
    "movies = container[:500]\n",
    "for movie in movies:\n",
    "    tag = movie.find('a', class_ = 'title')\n",
    "    link = tag.get('href', None)\n",
    "    movie_links.append(link)\n",
    "print(movie_links)"
   ]
  },
  {
   "cell_type": "markdown",
   "metadata": {},
   "source": [
    "# This is where we stopped last time"
   ]
  },
  {
   "cell_type": "markdown",
   "metadata": {},
   "source": [
    "<a class=\"see_all boxed oswald\" href=\"/movie/the-godfather/user-reviews\">SEE ALL 459 REVIEWS</a>"
   ]
  },
  {
   "cell_type": "code",
   "execution_count": 9,
   "metadata": {},
   "outputs": [
    {
     "name": "stdout",
     "output_type": "stream",
     "text": [
      "['https://www.metacritic.com/movie/citizen-kane', 'https://www.metacritic.com/movie/the-godfather', 'https://www.metacritic.com/movie/rear-window', 'https://www.metacritic.com/movie/casablanca', 'https://www.metacritic.com/movie/boyhood', 'https://www.metacritic.com/movie/three-colors-red', 'https://www.metacritic.com/movie/vertigo', 'https://www.metacritic.com/movie/notorious-1946', 'https://www.metacritic.com/movie/singin-in-the-rain', 'https://www.metacritic.com/movie/city-lights', 'https://www.metacritic.com/movie/moonlight-2016', 'https://www.metacritic.com/movie/intolerance', 'https://www.metacritic.com/movie/pinocchio-1940', 'https://www.metacritic.com/movie/touch-of-evil', 'https://www.metacritic.com/movie/the-lady-vanishes-1938', 'https://www.metacritic.com/movie/the-treasure-of-the-sierra-madre', 'https://www.metacritic.com/movie/pans-labyrinth', 'https://www.metacritic.com/movie/some-like-it-hot', 'https://www.metacritic.com/movie/north-by-northwest', 'https://www.metacritic.com/movie/hoop-dreams', 'https://www.metacritic.com/movie/rashomon', 'https://www.metacritic.com/movie/all-about-eve', 'https://www.metacritic.com/movie/jules-and-jim', 'https://www.metacritic.com/movie/the-wild-bunch', 'https://www.metacritic.com/movie/my-left-foot', 'https://www.metacritic.com/movie/the-third-man', 'https://www.metacritic.com/movie/dr-strangelove-or-how-i-learned-to-stop-worrying-and-love-the-bomb', 'https://www.metacritic.com/movie/quo-vadis-aida', 'https://www.metacritic.com/movie/gone-with-the-wind', 'https://www.metacritic.com/movie/4-months-3-weeks-and-2-days', 'https://www.metacritic.com/movie/psycho-1960', 'https://www.metacritic.com/movie/battleship-potemkin', 'https://www.metacritic.com/movie/a-streetcar-named-desire', 'https://www.metacritic.com/movie/american-graffiti', 'https://www.metacritic.com/movie/dumbo-1941', 'https://www.metacritic.com/movie/roma', 'https://www.metacritic.com/movie/ran', 'https://www.metacritic.com/movie/the-shop-around-the-corner', 'https://www.metacritic.com/movie/12-angry-men', 'https://www.metacritic.com/movie/manchester-by-the-sea', 'https://www.metacritic.com/movie/rosemarys-baby', 'https://www.metacritic.com/movie/the-maltese-falcon', 'https://www.metacritic.com/movie/12-years-a-slave', 'https://www.metacritic.com/movie/killer-of-sheep', 'https://www.metacritic.com/movie/nashville', 'https://www.metacritic.com/movie/ratatouille', 'https://www.metacritic.com/movie/parasite', 'https://www.metacritic.com/movie/rocks', 'https://www.metacritic.com/movie/dont-look-now', 'https://www.metacritic.com/movie/the-grapes-of-wrath', 'https://www.metacritic.com/movie/children-of-paradise', 'https://www.metacritic.com/movie/mean-streets', 'https://www.metacritic.com/movie/the-lady-eve', 'https://www.metacritic.com/movie/gravity', 'https://www.metacritic.com/movie/fantasia', 'https://www.metacritic.com/movie/spirited-away', 'https://www.metacritic.com/movie/beauty-and-the-beast-1991', 'https://www.metacritic.com/movie/lovers-rock', 'https://www.metacritic.com/movie/toy-story', 'https://www.metacritic.com/movie/the-bride-of-frankenstein', 'https://www.metacritic.com/movie/the-social-network', 'https://www.metacritic.com/movie/my-fair-lady', 'https://www.metacritic.com/movie/portrait-of-a-lady-on-fire', 'https://www.metacritic.com/movie/i-am-not-your-negro', 'https://www.metacritic.com/movie/woodstock-1970', 'https://www.metacritic.com/movie/double-indemnity', 'https://www.metacritic.com/movie/snow-white-and-the-seven-dwarfs', 'https://www.metacritic.com/movie/the-hurt-locker', 'https://www.metacritic.com/movie/anatomy-of-a-murder', 'https://www.metacritic.com/movie/zero-dark-thirty', 'https://www.metacritic.com/movie/collective', 'https://www.metacritic.com/movie/a-separation', 'https://www.metacritic.com/movie/wall-e', 'https://www.metacritic.com/movie/carol', 'https://www.metacritic.com/movie/before-midnight', 'https://www.metacritic.com/movie/amour', 'https://www.metacritic.com/movie/dunkirk', 'https://www.metacritic.com/movie/summer-of-soul-or-when-the-revolution-could-not-be-televised', 'https://www.metacritic.com/movie/the-man-who-shot-liberty-valance', 'https://www.metacritic.com/movie/the-searchers', 'https://www.metacritic.com/movie/45-years', 'https://www.metacritic.com/movie/taxi-driver', 'https://www.metacritic.com/movie/pulp-fiction', 'https://www.metacritic.com/movie/the-manchurian-candidate-1962', 'https://www.metacritic.com/movie/mr-turner', 'https://www.metacritic.com/movie/the-irishman', 'https://www.metacritic.com/movie/grave-of-the-fireflies', 'https://www.metacritic.com/movie/the-wild-child', 'https://www.metacritic.com/movie/amazing-grace-1972', 'https://www.metacritic.com/movie/shadow-of-a-doubt', 'https://www.metacritic.com/movie/inside-out-2015', 'https://www.metacritic.com/movie/sideways', 'https://www.metacritic.com/movie/schindlers-list', 'https://www.metacritic.com/movie/meet-me-in-st-louis', 'https://www.metacritic.com/movie/the-apartment', 'https://www.metacritic.com/movie/apocalypse-now', 'https://www.metacritic.com/movie/the-gunfighter', 'https://www.metacritic.com/movie/we-were-here', 'https://www.metacritic.com/movie/lady-bird', 'https://www.metacritic.com/movie/chimes-at-midnight']\n"
     ]
    }
   ],
   "source": [
    "for i in range(len(movie_links)):\n",
    "    movie_links[i] = 'https://www.metacritic.com'+ movie_links[i]\n",
    "print(movie_links)"
   ]
  },
  {
   "cell_type": "code",
   "execution_count": 10,
   "metadata": {},
   "outputs": [
    {
     "name": "stdout",
     "output_type": "stream",
     "text": [
      "100\n"
     ]
    }
   ],
   "source": [
    "for i in range(5):\n",
    "    movie_links[i] = 'https://www.metacritic.com'+ movie_links[i]\n",
    "\n",
    "print(len(movie_links))\n"
   ]
  },
  {
   "cell_type": "code",
   "execution_count": 11,
   "metadata": {},
   "outputs": [],
   "source": [
    "url1 = 'https://www.metacritic.com/browse/movies/score/metascore/all/filtered?sort=desc&page=0'\n",
    "url2 = 'https://www.metacritic.com/browse/movies/score/metascore/all/filtered?sort=desc&page=1'\n",
    "url3 = 'https://www.metacritic.com/browse/movies/score/metascore/all/filtered?sort=desc&page=2'\n",
    "url4 = 'https://www.metacritic.com/browse/movies/score/metascore/all/filtered?sort=desc&page=3'\n",
    "url5 = 'https://www.metacritic.com/browse/movies/score/metascore/all/filtered?sort=desc&page=4'\n",
    "\n",
    "page1 = requests.get(url1, headers = headers)\n",
    "soup1 = BeautifulSoup(page1.content, \"html.parser\")\n",
    "\n",
    "page2 = requests.get(url2, headers = headers)\n",
    "soup2 = BeautifulSoup(page2.content, \"html.parser\")\n",
    "\n",
    "page3 = requests.get(url3, headers = headers)\n",
    "soup3 = BeautifulSoup(page3.content, \"html.parser\")\n",
    "\n",
    "page4 = requests.get(url4, headers = headers)\n",
    "soup4 = BeautifulSoup(page4.content, \"html.parser\")\n",
    "\n",
    "page5 = requests.get(url5, headers = headers)\n",
    "soup5 = BeautifulSoup(page5.content, \"html.parser\")\n"
   ]
  },
  {
   "cell_type": "code",
   "execution_count": 12,
   "metadata": {},
   "outputs": [],
   "source": [
    "container1 = soup1.find_all('td', class_ = 'clamp-summary-wrap')\n",
    "container2 = soup2.find_all('td', class_ = 'clamp-summary-wrap')\n",
    "container3 = soup3.find_all('td', class_ = 'clamp-summary-wrap')\n",
    "container4 = soup4.find_all('td', class_ = 'clamp-summary-wrap')\n",
    "container5 = soup5.find_all('td', class_ = 'clamp-summary-wrap')"
   ]
  },
  {
   "cell_type": "code",
   "execution_count": 13,
   "metadata": {},
   "outputs": [
    {
     "name": "stdout",
     "output_type": "stream",
     "text": [
      "500\n",
      "500\n"
     ]
    }
   ],
   "source": [
    "movie_names = []\n",
    "\n",
    "for movie in container1:\n",
    "    name = movie.find('h3').text\n",
    "    movie_names.append(name)\n",
    "\n",
    "for movie in container2:\n",
    "    name = movie.find('h3').text\n",
    "    movie_names.append(name)\n",
    "\n",
    "for movie in container3:\n",
    "    name = movie.find('h3').text\n",
    "    movie_names.append(name)\n",
    "\n",
    "for movie in container4:\n",
    "    name = movie.find('h3').text\n",
    "    movie_names.append(name)\n",
    "\n",
    "for movie in container5:\n",
    "    name = movie.find('h3').text\n",
    "    movie_names.append(name)\n",
    "\n",
    "print(len(movie_names))\n",
    "\n",
    "movie_names = []\n",
    "\n",
    "for movie in container1:\n",
    "    name = movie.find('h3').text\n",
    "    movie_names.append(name)\n",
    "\n",
    "for movie in container2:\n",
    "    name = movie.find('h3').text\n",
    "    movie_names.append(name)\n",
    "\n",
    "for movie in container3:\n",
    "    name = movie.find('h3').text\n",
    "    movie_names.append(name)\n",
    "\n",
    "for movie in container4:\n",
    "    name = movie.find('h3').text\n",
    "    movie_names.append(name)\n",
    "\n",
    "for movie in container5:\n",
    "    name = movie.find('h3').text\n",
    "    movie_names.append(name)\n",
    "print(\"movies name: \")\n",
    "print(len(movie_names))\n"
   ]
  },
  {
   "cell_type": "code",
   "execution_count": 14,
   "metadata": {},
   "outputs": [
    {
     "name": "stdout",
     "output_type": "stream",
     "text": [
      "500\n"
     ]
    }
   ],
   "source": [
    "movie_links = []\n",
    "\n",
    "for movie in container1:\n",
    "    tag = movie.find('a', class_ = 'title')\n",
    "    link = tag.get('href', None)\n",
    "    movie_links.append(link)\n",
    "\n",
    "for movie in container2:\n",
    "    tag = movie.find('a', class_ = 'title')\n",
    "    link = tag.get('href', None)\n",
    "    movie_links.append(link)\n",
    "\n",
    "for movie in container3:\n",
    "    tag = movie.find('a', class_ = 'title')\n",
    "    link = tag.get('href', None)\n",
    "    movie_links.append(link)\n",
    "\n",
    "for movie in container4:\n",
    "    tag = movie.find('a', class_ = 'title')\n",
    "    link = tag.get('href', None)\n",
    "    movie_links.append(link)\n",
    "\n",
    "for movie in container5:\n",
    "    tag = movie.find('a', class_ = 'title')\n",
    "    link = tag.get('href', None)\n",
    "    movie_links.append(link)\n",
    "\n",
    "print(len(movie_links))\n"
   ]
  },
  {
   "cell_type": "code",
   "execution_count": 15,
   "metadata": {},
   "outputs": [
    {
     "name": "stdout",
     "output_type": "stream",
     "text": [
      "500\n"
     ]
    }
   ],
   "source": [
    "for i in range(len(movie_links)):\n",
    "    movie_links[i] = 'https://www.metacritic.com'+ movie_links[i]\n",
    "\n",
    "print(len(movie_links))\n"
   ]
  },
  {
   "cell_type": "code",
   "execution_count": null,
   "metadata": {},
   "outputs": [],
   "source": [
    "detail_links = []\n",
    "\n",
    "for movie_link in movie_links:\n",
    "    page = requests.get(movie_link, headers = headers)\n",
    "    soup = BeautifulSoup(page.content, \"html.parser\")\n",
    "    div = soup('div', class_= 'see_all pad_btm1')\n",
    "    for line in div:\n",
    "        hyperlink = line.find('a')\n",
    "        url = hyperlink.get('href', None)\n",
    "        detail_links.append(url)\n",
    "\n",
    "print(len(detail_links))\n"
   ]
  },
  {
   "cell_type": "code",
   "execution_count": null,
   "metadata": {},
   "outputs": [],
   "source": [
    "for i in range(len(detail_links)):\n",
    "    detail_links[i] = 'https://www.metacritic.com'+ detail_links[i]\n",
    "\n",
    "print(len(detail_links))\n"
   ]
  },
  {
   "cell_type": "code",
   "execution_count": null,
   "metadata": {},
   "outputs": [],
   "source": [
    "movie_director = dict()\n",
    "movie_cast = dict()\n",
    "\n",
    "for i in range(500):\n",
    "    name = movie_names[i]\n",
    "    url = detail_links[i]\n",
    "    \n",
    "    page = requests.get(url, headers = headers)\n",
    "    soup = BeautifulSoup(page.content, \"html.parser\")\n",
    "    \n",
    "    director_table = soup.find('table', class_ = 'credits', summary = name + \"'s Director Credits\")\n",
    "    \n",
    "    if director_table is None:\n",
    "        director_table = soup.find('table', class_ = 'credits', summary = name + 's Director Credits')\n",
    "    \n",
    "    if director_table is None:\n",
    "        director_table = soup.find('table', class_ = 'credits', summary = name + ' Director Credits')\n",
    "    \n",
    "    directors = list()\n",
    "    directors.clear()\n",
    "    \n",
    "    if director_table is None:\n",
    "        directors.append(' ')\n",
    "    \n",
    "    if director_table is not None:\n",
    "        director_line = director_table.find_all('td', class_ = 'person')\n",
    "        \n",
    "        for line in director_line:\n",
    "            hyperlink = line.find('a')\n",
    "            director = hyperlink.get_text()\n",
    "            directors.append(director.strip())\n",
    "        \n",
    "    cast_table = soup.find('table', class_ = 'credits', summary = name + \"'s Cast Credits\")\n",
    "    \n",
    "    if cast_table is None:\n",
    "        cast_table = soup.find('table', class_ = 'credits', summary = name + 's Cast Credits')\n",
    "    \n",
    "    if cast_table is None:\n",
    "        cast_table = soup.find('table', class_ = 'credits', summary = name + ' Cast Credits')\n",
    "    \n",
    "    p_cast_table = soup.find('table', class_ = 'credits', summary = name + \"'s Principal Cast Credits\")\n",
    "    \n",
    "    if p_cast_table is None:\n",
    "        p_cast_table = soup.find('table', class_ = 'credits', summary = name + 's Principal Cast Credits')\n",
    "    \n",
    "    if p_cast_table is None:\n",
    "        p_cast_table = soup.find('table', class_ = 'credits', summary = name + ' Principal Cast Credits')\n",
    "    \n",
    "    casts = list()\n",
    "    casts.clear()\n",
    "    \n",
    "    if (cast_table is None) & (p_cast_table is None):\n",
    "        casts.append(' ')\n",
    "    \n",
    "    if cast_table is not None:\n",
    "        cast_line = cast_table.find_all('td', class_ = 'person')\n",
    "        \n",
    "        for line in cast_line:\n",
    "            hyperlink = line.find('a')\n",
    "            cast = hyperlink.get_text()\n",
    "            casts.append(cast.strip())\n",
    "    \n",
    "    if p_cast_table is not None:\n",
    "        p_cast_line = p_cast_table.find_all('td', class_ = 'person')\n",
    "        \n",
    "        for line in p_cast_line:\n",
    "            hyperlink = line.find('a')\n",
    "            cast = hyperlink.get_text()\n",
    "            casts.append(cast.strip())\n",
    "    \n",
    "    movie_director[name] = directors\n",
    "    movie_cast[name] = casts"
   ]
  },
  {
   "cell_type": "code",
   "execution_count": null,
   "metadata": {},
   "outputs": [],
   "source": [
    "inp_movie = input('Which movie do you want to check?\\n\\tinput: ')\n",
    "inp = input('What information about this movie do you want to check? (Choose director or cast)\\n\\tinput: ')\n",
    "inp = inp.lower()\n",
    "\n",
    "print('\\nOutput:')\n",
    "if (inp != 'director') & (inp != 'cast'):\n",
    "    print('\\tError: Invalid input!')\n",
    "\n",
    "else:\n",
    "    f1 = 0\n",
    "\n",
    "    for i in movie_director:\n",
    "        if i == inp_movie:\n",
    "\n",
    "            f1 = 1\n",
    "\n",
    "            if inp == 'director':\n",
    "\n",
    "                list_directors = movie_director.get(i)\n",
    "\n",
    "                k = 0\n",
    "                print('\\tThe directors of the movie',i,'includes ', end='')\n",
    "\n",
    "                for j in list_directors:\n",
    "\n",
    "                    if k == len(list_directors)-1:\n",
    "                        print(j)\n",
    "\n",
    "                    else:\n",
    "                        print(j, end=', ')\n",
    "\n",
    "                    k += 1\n",
    "\n",
    "            if inp == 'cast':\n",
    "\n",
    "                list_cast = movie_cast.get(i)\n",
    "\n",
    "                k = 0\n",
    "                print('\\tThe cast of the movie',i,'includes ', end='')\n",
    "\n",
    "                for j in list_cast:\n",
    "\n",
    "                    if k == len(list_cast)-1:\n",
    "                        print(j)\n",
    "\n",
    "                    else:\n",
    "                        print(j)\n",
    "\n",
    "                    k += 1\n",
    "\n",
    "    if f1 == 0:\n",
    "        print('\\tError: Movie not found')\n"
   ]
  },
  {
   "cell_type": "code",
   "execution_count": null,
   "metadata": {},
   "outputs": [],
   "source": [
    "act_freq = dict()\n",
    "\n",
    "for i in range(500):\n",
    "    \n",
    "    movie = movie_names[i]\n",
    "    list_cast = movie_cast.get(movie)\n",
    "    \n",
    "    for lc in list_cast:\n",
    "        \n",
    "        if lc in act_freq:\n",
    "            act_freq[lc] = act_freq.get(lc)+1\n",
    "        \n",
    "        else:\n",
    "            act_freq[lc] = 1\n"
   ]
  },
  {
   "cell_type": "code",
   "execution_count": null,
   "metadata": {},
   "outputs": [],
   "source": [
    "for i in act_freq:\n",
    "    if str(i) != ' ':\n",
    "        afg = act_freq.get(i)\n",
    "        print(i,':',afg)\n"
   ]
  }
 ],
 "metadata": {
  "kernelspec": {
   "display_name": "Python 3",
   "language": "python",
   "name": "python3"
  },
  "language_info": {
   "codemirror_mode": {
    "name": "ipython",
    "version": 3
   },
   "file_extension": ".py",
   "mimetype": "text/x-python",
   "name": "python",
   "nbconvert_exporter": "python",
   "pygments_lexer": "ipython3",
   "version": "3.8.5"
  }
 },
 "nbformat": 4,
 "nbformat_minor": 2
}
